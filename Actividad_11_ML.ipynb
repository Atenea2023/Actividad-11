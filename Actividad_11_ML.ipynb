{
  "nbformat": 4,
  "nbformat_minor": 0,
  "metadata": {
    "colab": {
      "provenance": [],
      "authorship_tag": "ABX9TyNvGKGsbKawT0LdFGjfA4ke",
      "include_colab_link": true
    },
    "kernelspec": {
      "name": "python3",
      "display_name": "Python 3"
    },
    "language_info": {
      "name": "python"
    }
  },
  "cells": [
    {
      "cell_type": "markdown",
      "metadata": {
        "id": "view-in-github",
        "colab_type": "text"
      },
      "source": [
        "<a href=\"https://colab.research.google.com/github/Atenea2023/Actividad-11/blob/main/Actividad_11_ML.ipynb\" target=\"_parent\"><img src=\"https://colab.research.google.com/assets/colab-badge.svg\" alt=\"Open In Colab\"/></a>"
      ]
    },
    {
      "cell_type": "markdown",
      "source": [
        "****"
      ],
      "metadata": {
        "id": "Q4HeuTtvj_iz"
      }
    },
    {
      "cell_type": "markdown",
      "source": [
        "**ACTIVIDAD 11 APRENDIZAJE AUTOMATICO**\n"
      ],
      "metadata": {
        "id": "uOPeSYYy5ZaF"
      }
    },
    {
      "cell_type": "markdown",
      "source": [
        "Stefania Aricapa Mora\n",
        "\n",
        "C.C 1193558543"
      ],
      "metadata": {
        "id": "iOOLdsVQ536D"
      }
    },
    {
      "cell_type": "markdown",
      "source": [
        "# PUNTO 1 K-VECINOS"
      ],
      "metadata": {
        "id": "Yy3jOqXl56zF"
      }
    },
    {
      "cell_type": "code",
      "execution_count": 68,
      "metadata": {
        "id": "-7j_XUAcyBwE"
      },
      "outputs": [],
      "source": [
        "from sklearn.neighbors import KNeighborsClassifier\n",
        "from sklearn.model_selection import train_test_split"
      ]
    },
    {
      "cell_type": "markdown",
      "source": [
        "**DATASET**"
      ],
      "metadata": {
        "id": "dVJfLbPg583K"
      }
    },
    {
      "cell_type": "code",
      "source": [
        "#librerias a importar\n",
        "import pandas as pd\n",
        "import numpy as np\n",
        "df= pd.read_csv('diabetes_prediction_dataset.csv', delimiter=',')"
      ],
      "metadata": {
        "id": "ec8Uaz4tyE9x"
      },
      "execution_count": 69,
      "outputs": []
    },
    {
      "cell_type": "markdown",
      "source": [
        "El dataset escogido para este ejercicio es sobre la diabetes. El proposito será predecir si una persona tiene diabetes."
      ],
      "metadata": {
        "id": "0OeoDMOVImIT"
      }
    },
    {
      "cell_type": "code",
      "source": [
        "df.head(5)"
      ],
      "metadata": {
        "colab": {
          "base_uri": "https://localhost:8080/",
          "height": 206
        },
        "id": "n-OSDMYjNuIb",
        "outputId": "a0628e0b-227c-486c-b830-8b5bab6b728a"
      },
      "execution_count": 71,
      "outputs": [
        {
          "output_type": "execute_result",
          "data": {
            "text/plain": [
              "   gender   age  hypertension  heart_disease smoking_history    bmi  \\\n",
              "0  Female  80.0             0              1           never  25.19   \n",
              "1  Female  54.0             0              0         No Info  27.32   \n",
              "2    Male  28.0             0              0           never  27.32   \n",
              "3  Female  36.0             0              0         current  23.45   \n",
              "4    Male  76.0             1              1         current  20.14   \n",
              "\n",
              "   HbA1c_level  blood_glucose_level  diabetes  \n",
              "0          6.6                  140         0  \n",
              "1          6.6                   80         0  \n",
              "2          5.7                  158         0  \n",
              "3          5.0                  155         0  \n",
              "4          4.8                  155         0  "
            ],
            "text/html": [
              "\n",
              "\n",
              "  <div id=\"df-bbb98ffd-3fb6-4806-a248-6a0044855e35\">\n",
              "    <div class=\"colab-df-container\">\n",
              "      <div>\n",
              "<style scoped>\n",
              "    .dataframe tbody tr th:only-of-type {\n",
              "        vertical-align: middle;\n",
              "    }\n",
              "\n",
              "    .dataframe tbody tr th {\n",
              "        vertical-align: top;\n",
              "    }\n",
              "\n",
              "    .dataframe thead th {\n",
              "        text-align: right;\n",
              "    }\n",
              "</style>\n",
              "<table border=\"1\" class=\"dataframe\">\n",
              "  <thead>\n",
              "    <tr style=\"text-align: right;\">\n",
              "      <th></th>\n",
              "      <th>gender</th>\n",
              "      <th>age</th>\n",
              "      <th>hypertension</th>\n",
              "      <th>heart_disease</th>\n",
              "      <th>smoking_history</th>\n",
              "      <th>bmi</th>\n",
              "      <th>HbA1c_level</th>\n",
              "      <th>blood_glucose_level</th>\n",
              "      <th>diabetes</th>\n",
              "    </tr>\n",
              "  </thead>\n",
              "  <tbody>\n",
              "    <tr>\n",
              "      <th>0</th>\n",
              "      <td>Female</td>\n",
              "      <td>80.0</td>\n",
              "      <td>0</td>\n",
              "      <td>1</td>\n",
              "      <td>never</td>\n",
              "      <td>25.19</td>\n",
              "      <td>6.6</td>\n",
              "      <td>140</td>\n",
              "      <td>0</td>\n",
              "    </tr>\n",
              "    <tr>\n",
              "      <th>1</th>\n",
              "      <td>Female</td>\n",
              "      <td>54.0</td>\n",
              "      <td>0</td>\n",
              "      <td>0</td>\n",
              "      <td>No Info</td>\n",
              "      <td>27.32</td>\n",
              "      <td>6.6</td>\n",
              "      <td>80</td>\n",
              "      <td>0</td>\n",
              "    </tr>\n",
              "    <tr>\n",
              "      <th>2</th>\n",
              "      <td>Male</td>\n",
              "      <td>28.0</td>\n",
              "      <td>0</td>\n",
              "      <td>0</td>\n",
              "      <td>never</td>\n",
              "      <td>27.32</td>\n",
              "      <td>5.7</td>\n",
              "      <td>158</td>\n",
              "      <td>0</td>\n",
              "    </tr>\n",
              "    <tr>\n",
              "      <th>3</th>\n",
              "      <td>Female</td>\n",
              "      <td>36.0</td>\n",
              "      <td>0</td>\n",
              "      <td>0</td>\n",
              "      <td>current</td>\n",
              "      <td>23.45</td>\n",
              "      <td>5.0</td>\n",
              "      <td>155</td>\n",
              "      <td>0</td>\n",
              "    </tr>\n",
              "    <tr>\n",
              "      <th>4</th>\n",
              "      <td>Male</td>\n",
              "      <td>76.0</td>\n",
              "      <td>1</td>\n",
              "      <td>1</td>\n",
              "      <td>current</td>\n",
              "      <td>20.14</td>\n",
              "      <td>4.8</td>\n",
              "      <td>155</td>\n",
              "      <td>0</td>\n",
              "    </tr>\n",
              "  </tbody>\n",
              "</table>\n",
              "</div>\n",
              "      <button class=\"colab-df-convert\" onclick=\"convertToInteractive('df-bbb98ffd-3fb6-4806-a248-6a0044855e35')\"\n",
              "              title=\"Convert this dataframe to an interactive table.\"\n",
              "              style=\"display:none;\">\n",
              "\n",
              "  <svg xmlns=\"http://www.w3.org/2000/svg\" height=\"24px\"viewBox=\"0 0 24 24\"\n",
              "       width=\"24px\">\n",
              "    <path d=\"M0 0h24v24H0V0z\" fill=\"none\"/>\n",
              "    <path d=\"M18.56 5.44l.94 2.06.94-2.06 2.06-.94-2.06-.94-.94-2.06-.94 2.06-2.06.94zm-11 1L8.5 8.5l.94-2.06 2.06-.94-2.06-.94L8.5 2.5l-.94 2.06-2.06.94zm10 10l.94 2.06.94-2.06 2.06-.94-2.06-.94-.94-2.06-.94 2.06-2.06.94z\"/><path d=\"M17.41 7.96l-1.37-1.37c-.4-.4-.92-.59-1.43-.59-.52 0-1.04.2-1.43.59L10.3 9.45l-7.72 7.72c-.78.78-.78 2.05 0 2.83L4 21.41c.39.39.9.59 1.41.59.51 0 1.02-.2 1.41-.59l7.78-7.78 2.81-2.81c.8-.78.8-2.07 0-2.86zM5.41 20L4 18.59l7.72-7.72 1.47 1.35L5.41 20z\"/>\n",
              "  </svg>\n",
              "      </button>\n",
              "\n",
              "\n",
              "\n",
              "    <div id=\"df-bc0b0055-f7b0-4e63-a2a6-d2d546c68ebe\">\n",
              "      <button class=\"colab-df-quickchart\" onclick=\"quickchart('df-bc0b0055-f7b0-4e63-a2a6-d2d546c68ebe')\"\n",
              "              title=\"Suggest charts.\"\n",
              "              style=\"display:none;\">\n",
              "\n",
              "<svg xmlns=\"http://www.w3.org/2000/svg\" height=\"24px\"viewBox=\"0 0 24 24\"\n",
              "     width=\"24px\">\n",
              "    <g>\n",
              "        <path d=\"M19 3H5c-1.1 0-2 .9-2 2v14c0 1.1.9 2 2 2h14c1.1 0 2-.9 2-2V5c0-1.1-.9-2-2-2zM9 17H7v-7h2v7zm4 0h-2V7h2v10zm4 0h-2v-4h2v4z\"/>\n",
              "    </g>\n",
              "</svg>\n",
              "      </button>\n",
              "    </div>\n",
              "\n",
              "<style>\n",
              "  .colab-df-quickchart {\n",
              "    background-color: #E8F0FE;\n",
              "    border: none;\n",
              "    border-radius: 50%;\n",
              "    cursor: pointer;\n",
              "    display: none;\n",
              "    fill: #1967D2;\n",
              "    height: 32px;\n",
              "    padding: 0 0 0 0;\n",
              "    width: 32px;\n",
              "  }\n",
              "\n",
              "  .colab-df-quickchart:hover {\n",
              "    background-color: #E2EBFA;\n",
              "    box-shadow: 0px 1px 2px rgba(60, 64, 67, 0.3), 0px 1px 3px 1px rgba(60, 64, 67, 0.15);\n",
              "    fill: #174EA6;\n",
              "  }\n",
              "\n",
              "  [theme=dark] .colab-df-quickchart {\n",
              "    background-color: #3B4455;\n",
              "    fill: #D2E3FC;\n",
              "  }\n",
              "\n",
              "  [theme=dark] .colab-df-quickchart:hover {\n",
              "    background-color: #434B5C;\n",
              "    box-shadow: 0px 1px 3px 1px rgba(0, 0, 0, 0.15);\n",
              "    filter: drop-shadow(0px 1px 2px rgba(0, 0, 0, 0.3));\n",
              "    fill: #FFFFFF;\n",
              "  }\n",
              "</style>\n",
              "\n",
              "    <script>\n",
              "      async function quickchart(key) {\n",
              "        const containerElement = document.querySelector('#' + key);\n",
              "        const charts = await google.colab.kernel.invokeFunction(\n",
              "            'suggestCharts', [key], {});\n",
              "      }\n",
              "    </script>\n",
              "\n",
              "      <script>\n",
              "\n",
              "function displayQuickchartButton(domScope) {\n",
              "  let quickchartButtonEl =\n",
              "    domScope.querySelector('#df-bc0b0055-f7b0-4e63-a2a6-d2d546c68ebe button.colab-df-quickchart');\n",
              "  quickchartButtonEl.style.display =\n",
              "    google.colab.kernel.accessAllowed ? 'block' : 'none';\n",
              "}\n",
              "\n",
              "        displayQuickchartButton(document);\n",
              "      </script>\n",
              "      <style>\n",
              "    .colab-df-container {\n",
              "      display:flex;\n",
              "      flex-wrap:wrap;\n",
              "      gap: 12px;\n",
              "    }\n",
              "\n",
              "    .colab-df-convert {\n",
              "      background-color: #E8F0FE;\n",
              "      border: none;\n",
              "      border-radius: 50%;\n",
              "      cursor: pointer;\n",
              "      display: none;\n",
              "      fill: #1967D2;\n",
              "      height: 32px;\n",
              "      padding: 0 0 0 0;\n",
              "      width: 32px;\n",
              "    }\n",
              "\n",
              "    .colab-df-convert:hover {\n",
              "      background-color: #E2EBFA;\n",
              "      box-shadow: 0px 1px 2px rgba(60, 64, 67, 0.3), 0px 1px 3px 1px rgba(60, 64, 67, 0.15);\n",
              "      fill: #174EA6;\n",
              "    }\n",
              "\n",
              "    [theme=dark] .colab-df-convert {\n",
              "      background-color: #3B4455;\n",
              "      fill: #D2E3FC;\n",
              "    }\n",
              "\n",
              "    [theme=dark] .colab-df-convert:hover {\n",
              "      background-color: #434B5C;\n",
              "      box-shadow: 0px 1px 3px 1px rgba(0, 0, 0, 0.15);\n",
              "      filter: drop-shadow(0px 1px 2px rgba(0, 0, 0, 0.3));\n",
              "      fill: #FFFFFF;\n",
              "    }\n",
              "  </style>\n",
              "\n",
              "      <script>\n",
              "        const buttonEl =\n",
              "          document.querySelector('#df-bbb98ffd-3fb6-4806-a248-6a0044855e35 button.colab-df-convert');\n",
              "        buttonEl.style.display =\n",
              "          google.colab.kernel.accessAllowed ? 'block' : 'none';\n",
              "\n",
              "        async function convertToInteractive(key) {\n",
              "          const element = document.querySelector('#df-bbb98ffd-3fb6-4806-a248-6a0044855e35');\n",
              "          const dataTable =\n",
              "            await google.colab.kernel.invokeFunction('convertToInteractive',\n",
              "                                                     [key], {});\n",
              "          if (!dataTable) return;\n",
              "\n",
              "          const docLinkHtml = 'Like what you see? Visit the ' +\n",
              "            '<a target=\"_blank\" href=https://colab.research.google.com/notebooks/data_table.ipynb>data table notebook</a>'\n",
              "            + ' to learn more about interactive tables.';\n",
              "          element.innerHTML = '';\n",
              "          dataTable['output_type'] = 'display_data';\n",
              "          await google.colab.output.renderOutput(dataTable, element);\n",
              "          const docLink = document.createElement('div');\n",
              "          docLink.innerHTML = docLinkHtml;\n",
              "          element.appendChild(docLink);\n",
              "        }\n",
              "      </script>\n",
              "    </div>\n",
              "  </div>\n"
            ]
          },
          "metadata": {},
          "execution_count": 71
        }
      ]
    },
    {
      "cell_type": "code",
      "source": [
        "df.info()"
      ],
      "metadata": {
        "colab": {
          "base_uri": "https://localhost:8080/"
        },
        "id": "l7sggzlL0gFc",
        "outputId": "719067c8-a0b0-4114-ab59-0d20691df1d3"
      },
      "execution_count": 73,
      "outputs": [
        {
          "output_type": "stream",
          "name": "stdout",
          "text": [
            "<class 'pandas.core.frame.DataFrame'>\n",
            "RangeIndex: 100000 entries, 0 to 99999\n",
            "Data columns (total 9 columns):\n",
            " #   Column               Non-Null Count   Dtype  \n",
            "---  ------               --------------   -----  \n",
            " 0   gender               100000 non-null  object \n",
            " 1   age                  100000 non-null  float64\n",
            " 2   hypertension         100000 non-null  int64  \n",
            " 3   heart_disease        100000 non-null  int64  \n",
            " 4   smoking_history      100000 non-null  object \n",
            " 5   bmi                  100000 non-null  float64\n",
            " 6   HbA1c_level          100000 non-null  float64\n",
            " 7   blood_glucose_level  100000 non-null  int64  \n",
            " 8   diabetes             100000 non-null  int64  \n",
            "dtypes: float64(3), int64(4), object(2)\n",
            "memory usage: 6.9+ MB\n"
          ]
        }
      ]
    },
    {
      "cell_type": "markdown",
      "source": [
        "# **Limpieza**"
      ],
      "metadata": {
        "id": "x1Tgj6U3kmMs"
      }
    },
    {
      "cell_type": "markdown",
      "source": [
        "Al revisar el dataset por primera vez, se puede observar que el dataset no cuenta con datos nulos y el nombre de las columnas está en inglés. Si bien varios datos son númericos; hay dos columnas cuyos datos están en objeto."
      ],
      "metadata": {
        "id": "LnIStW3FJdG9"
      }
    },
    {
      "cell_type": "markdown",
      "source": [
        "Para la limpieza primero se cambiarán los nombres de las columnas a español."
      ],
      "metadata": {
        "id": "kJ52zKNKLyvP"
      }
    },
    {
      "cell_type": "code",
      "source": [
        "df.set_axis(['genero', 'edad', 'hipertension','enfermedades_cardiacas','historial_de_fumar','bmi', 'hemoglobina', 'nivel_glucosa', 'diabetes'],\n",
        "                    axis='columns', inplace=True)"
      ],
      "metadata": {
        "colab": {
          "base_uri": "https://localhost:8080/"
        },
        "id": "MnVWlx4vIUNn",
        "outputId": "dc31b92e-c0a9-4959-e32b-cbd076dbc718"
      },
      "execution_count": 74,
      "outputs": [
        {
          "output_type": "stream",
          "name": "stderr",
          "text": [
            "<ipython-input-74-c16f48e59a90>:1: FutureWarning: DataFrame.set_axis 'inplace' keyword is deprecated and will be removed in a future version. Use `obj = obj.set_axis(..., copy=False)` instead\n",
            "  df.set_axis(['genero', 'edad', 'hipertension','enfermedades_cardiacas','historial_de_fumar','bmi', 'hemoglobina', 'nivel_glucosa', 'diabetes'],\n"
          ]
        }
      ]
    },
    {
      "cell_type": "code",
      "source": [
        "df.info()"
      ],
      "metadata": {
        "colab": {
          "base_uri": "https://localhost:8080/"
        },
        "id": "bqBUlaWgNdqX",
        "outputId": "c3b5d75e-53fd-4f05-fca4-0c3ec356d6f4"
      },
      "execution_count": 75,
      "outputs": [
        {
          "output_type": "stream",
          "name": "stdout",
          "text": [
            "<class 'pandas.core.frame.DataFrame'>\n",
            "RangeIndex: 100000 entries, 0 to 99999\n",
            "Data columns (total 9 columns):\n",
            " #   Column                  Non-Null Count   Dtype  \n",
            "---  ------                  --------------   -----  \n",
            " 0   genero                  100000 non-null  object \n",
            " 1   edad                    100000 non-null  float64\n",
            " 2   hipertension            100000 non-null  int64  \n",
            " 3   enfermedades_cardiacas  100000 non-null  int64  \n",
            " 4   historial_de_fumar      100000 non-null  object \n",
            " 5   bmi                     100000 non-null  float64\n",
            " 6   hemoglobina             100000 non-null  float64\n",
            " 7   nivel_glucosa           100000 non-null  int64  \n",
            " 8   diabetes                100000 non-null  int64  \n",
            "dtypes: float64(3), int64(4), object(2)\n",
            "memory usage: 6.9+ MB\n"
          ]
        }
      ]
    },
    {
      "cell_type": "markdown",
      "source": [
        "Lo siguiente será transcribir los datos. Pasar los datos del a coluna 'genero' de texto a número. Los valores que tomarán cada dato serán los siguientes.\n",
        "\n",
        "\n",
        "1.   Female= 0\n",
        "2.   Male= 1\n",
        "3.   Other= 2\n",
        "\n",
        "\n"
      ],
      "metadata": {
        "id": "JWUqD943MMei"
      }
    },
    {
      "cell_type": "code",
      "source": [
        "df['genero'].unique()"
      ],
      "metadata": {
        "colab": {
          "base_uri": "https://localhost:8080/"
        },
        "id": "UAwFtTjhTMJF",
        "outputId": "d38b88ad-339f-42cd-a729-3c92829c18c8"
      },
      "execution_count": 76,
      "outputs": [
        {
          "output_type": "execute_result",
          "data": {
            "text/plain": [
              "array(['Female', 'Male', 'Other'], dtype=object)"
            ]
          },
          "metadata": {},
          "execution_count": 76
        }
      ]
    },
    {
      "cell_type": "code",
      "source": [
        "#transcribir la variable\n",
        "df.loc[df['genero'] == 'Female', 'genero'] = 0\n",
        "df.loc[df['genero'] == 'Male', 'genero'] = 1\n",
        "df.loc[df['genero'] == 'Other', 'genero'] = 2"
      ],
      "metadata": {
        "id": "HqSyezj0dFDw"
      },
      "execution_count": 77,
      "outputs": []
    },
    {
      "cell_type": "markdown",
      "source": [
        "Después de la trascripción se observó que colab sigue tomando los datos cómo objeto. Por ello se pasan a enteros"
      ],
      "metadata": {
        "id": "lSNQ14b7M4AW"
      }
    },
    {
      "cell_type": "code",
      "source": [
        "df['genero'] = df['genero'].astype(int, errors = 'raise')"
      ],
      "metadata": {
        "id": "Q8Ufj9_nXoQW"
      },
      "execution_count": 78,
      "outputs": []
    },
    {
      "cell_type": "markdown",
      "source": [
        "En la siguientes lineas se puede comprobar los cambios realizados."
      ],
      "metadata": {
        "id": "zTmk062PN_mQ"
      }
    },
    {
      "cell_type": "code",
      "source": [
        "df.info()"
      ],
      "metadata": {
        "colab": {
          "base_uri": "https://localhost:8080/"
        },
        "id": "dB1hdMubNxll",
        "outputId": "89506077-52cf-484e-8ec2-f9fef4feb26c"
      },
      "execution_count": 11,
      "outputs": [
        {
          "output_type": "stream",
          "name": "stdout",
          "text": [
            "<class 'pandas.core.frame.DataFrame'>\n",
            "RangeIndex: 100000 entries, 0 to 99999\n",
            "Data columns (total 9 columns):\n",
            " #   Column                  Non-Null Count   Dtype  \n",
            "---  ------                  --------------   -----  \n",
            " 0   genero                  100000 non-null  int64  \n",
            " 1   edad                    100000 non-null  float64\n",
            " 2   hipertension            100000 non-null  int64  \n",
            " 3   enfermedades_cardiacas  100000 non-null  int64  \n",
            " 4   historial_de_fumar      100000 non-null  object \n",
            " 5   bmi                     100000 non-null  float64\n",
            " 6   hemoglobina             100000 non-null  float64\n",
            " 7   nivel_glucosa           100000 non-null  int64  \n",
            " 8   diabetes                100000 non-null  int64  \n",
            "dtypes: float64(3), int64(5), object(1)\n",
            "memory usage: 6.9+ MB\n"
          ]
        }
      ]
    },
    {
      "cell_type": "code",
      "source": [
        "df.head(5)"
      ],
      "metadata": {
        "id": "vvlq68WNgxNx",
        "colab": {
          "base_uri": "https://localhost:8080/",
          "height": 206
        },
        "outputId": "7ed5209c-732b-4924-c024-7b99433d14c1"
      },
      "execution_count": 13,
      "outputs": [
        {
          "output_type": "execute_result",
          "data": {
            "text/plain": [
              "   genero  edad  hipertension  enfermedades_cardiacas historial_de_fumar  \\\n",
              "0       0  80.0             0                       1              never   \n",
              "1       0  54.0             0                       0            No Info   \n",
              "2       1  28.0             0                       0              never   \n",
              "3       0  36.0             0                       0            current   \n",
              "4       1  76.0             1                       1            current   \n",
              "\n",
              "     bmi  hemoglobina  nivel_glucosa  diabetes  \n",
              "0  25.19          6.6            140         0  \n",
              "1  27.32          6.6             80         0  \n",
              "2  27.32          5.7            158         0  \n",
              "3  23.45          5.0            155         0  \n",
              "4  20.14          4.8            155         0  "
            ],
            "text/html": [
              "\n",
              "\n",
              "  <div id=\"df-f50223f8-a8c3-4e9f-88b2-735f813d7438\">\n",
              "    <div class=\"colab-df-container\">\n",
              "      <div>\n",
              "<style scoped>\n",
              "    .dataframe tbody tr th:only-of-type {\n",
              "        vertical-align: middle;\n",
              "    }\n",
              "\n",
              "    .dataframe tbody tr th {\n",
              "        vertical-align: top;\n",
              "    }\n",
              "\n",
              "    .dataframe thead th {\n",
              "        text-align: right;\n",
              "    }\n",
              "</style>\n",
              "<table border=\"1\" class=\"dataframe\">\n",
              "  <thead>\n",
              "    <tr style=\"text-align: right;\">\n",
              "      <th></th>\n",
              "      <th>genero</th>\n",
              "      <th>edad</th>\n",
              "      <th>hipertension</th>\n",
              "      <th>enfermedades_cardiacas</th>\n",
              "      <th>historial_de_fumar</th>\n",
              "      <th>bmi</th>\n",
              "      <th>hemoglobina</th>\n",
              "      <th>nivel_glucosa</th>\n",
              "      <th>diabetes</th>\n",
              "    </tr>\n",
              "  </thead>\n",
              "  <tbody>\n",
              "    <tr>\n",
              "      <th>0</th>\n",
              "      <td>0</td>\n",
              "      <td>80.0</td>\n",
              "      <td>0</td>\n",
              "      <td>1</td>\n",
              "      <td>never</td>\n",
              "      <td>25.19</td>\n",
              "      <td>6.6</td>\n",
              "      <td>140</td>\n",
              "      <td>0</td>\n",
              "    </tr>\n",
              "    <tr>\n",
              "      <th>1</th>\n",
              "      <td>0</td>\n",
              "      <td>54.0</td>\n",
              "      <td>0</td>\n",
              "      <td>0</td>\n",
              "      <td>No Info</td>\n",
              "      <td>27.32</td>\n",
              "      <td>6.6</td>\n",
              "      <td>80</td>\n",
              "      <td>0</td>\n",
              "    </tr>\n",
              "    <tr>\n",
              "      <th>2</th>\n",
              "      <td>1</td>\n",
              "      <td>28.0</td>\n",
              "      <td>0</td>\n",
              "      <td>0</td>\n",
              "      <td>never</td>\n",
              "      <td>27.32</td>\n",
              "      <td>5.7</td>\n",
              "      <td>158</td>\n",
              "      <td>0</td>\n",
              "    </tr>\n",
              "    <tr>\n",
              "      <th>3</th>\n",
              "      <td>0</td>\n",
              "      <td>36.0</td>\n",
              "      <td>0</td>\n",
              "      <td>0</td>\n",
              "      <td>current</td>\n",
              "      <td>23.45</td>\n",
              "      <td>5.0</td>\n",
              "      <td>155</td>\n",
              "      <td>0</td>\n",
              "    </tr>\n",
              "    <tr>\n",
              "      <th>4</th>\n",
              "      <td>1</td>\n",
              "      <td>76.0</td>\n",
              "      <td>1</td>\n",
              "      <td>1</td>\n",
              "      <td>current</td>\n",
              "      <td>20.14</td>\n",
              "      <td>4.8</td>\n",
              "      <td>155</td>\n",
              "      <td>0</td>\n",
              "    </tr>\n",
              "  </tbody>\n",
              "</table>\n",
              "</div>\n",
              "      <button class=\"colab-df-convert\" onclick=\"convertToInteractive('df-f50223f8-a8c3-4e9f-88b2-735f813d7438')\"\n",
              "              title=\"Convert this dataframe to an interactive table.\"\n",
              "              style=\"display:none;\">\n",
              "\n",
              "  <svg xmlns=\"http://www.w3.org/2000/svg\" height=\"24px\"viewBox=\"0 0 24 24\"\n",
              "       width=\"24px\">\n",
              "    <path d=\"M0 0h24v24H0V0z\" fill=\"none\"/>\n",
              "    <path d=\"M18.56 5.44l.94 2.06.94-2.06 2.06-.94-2.06-.94-.94-2.06-.94 2.06-2.06.94zm-11 1L8.5 8.5l.94-2.06 2.06-.94-2.06-.94L8.5 2.5l-.94 2.06-2.06.94zm10 10l.94 2.06.94-2.06 2.06-.94-2.06-.94-.94-2.06-.94 2.06-2.06.94z\"/><path d=\"M17.41 7.96l-1.37-1.37c-.4-.4-.92-.59-1.43-.59-.52 0-1.04.2-1.43.59L10.3 9.45l-7.72 7.72c-.78.78-.78 2.05 0 2.83L4 21.41c.39.39.9.59 1.41.59.51 0 1.02-.2 1.41-.59l7.78-7.78 2.81-2.81c.8-.78.8-2.07 0-2.86zM5.41 20L4 18.59l7.72-7.72 1.47 1.35L5.41 20z\"/>\n",
              "  </svg>\n",
              "      </button>\n",
              "\n",
              "\n",
              "\n",
              "    <div id=\"df-5e568be5-0fb1-4ab8-81b5-d4f2fe66b044\">\n",
              "      <button class=\"colab-df-quickchart\" onclick=\"quickchart('df-5e568be5-0fb1-4ab8-81b5-d4f2fe66b044')\"\n",
              "              title=\"Suggest charts.\"\n",
              "              style=\"display:none;\">\n",
              "\n",
              "<svg xmlns=\"http://www.w3.org/2000/svg\" height=\"24px\"viewBox=\"0 0 24 24\"\n",
              "     width=\"24px\">\n",
              "    <g>\n",
              "        <path d=\"M19 3H5c-1.1 0-2 .9-2 2v14c0 1.1.9 2 2 2h14c1.1 0 2-.9 2-2V5c0-1.1-.9-2-2-2zM9 17H7v-7h2v7zm4 0h-2V7h2v10zm4 0h-2v-4h2v4z\"/>\n",
              "    </g>\n",
              "</svg>\n",
              "      </button>\n",
              "    </div>\n",
              "\n",
              "<style>\n",
              "  .colab-df-quickchart {\n",
              "    background-color: #E8F0FE;\n",
              "    border: none;\n",
              "    border-radius: 50%;\n",
              "    cursor: pointer;\n",
              "    display: none;\n",
              "    fill: #1967D2;\n",
              "    height: 32px;\n",
              "    padding: 0 0 0 0;\n",
              "    width: 32px;\n",
              "  }\n",
              "\n",
              "  .colab-df-quickchart:hover {\n",
              "    background-color: #E2EBFA;\n",
              "    box-shadow: 0px 1px 2px rgba(60, 64, 67, 0.3), 0px 1px 3px 1px rgba(60, 64, 67, 0.15);\n",
              "    fill: #174EA6;\n",
              "  }\n",
              "\n",
              "  [theme=dark] .colab-df-quickchart {\n",
              "    background-color: #3B4455;\n",
              "    fill: #D2E3FC;\n",
              "  }\n",
              "\n",
              "  [theme=dark] .colab-df-quickchart:hover {\n",
              "    background-color: #434B5C;\n",
              "    box-shadow: 0px 1px 3px 1px rgba(0, 0, 0, 0.15);\n",
              "    filter: drop-shadow(0px 1px 2px rgba(0, 0, 0, 0.3));\n",
              "    fill: #FFFFFF;\n",
              "  }\n",
              "</style>\n",
              "\n",
              "    <script>\n",
              "      async function quickchart(key) {\n",
              "        const containerElement = document.querySelector('#' + key);\n",
              "        const charts = await google.colab.kernel.invokeFunction(\n",
              "            'suggestCharts', [key], {});\n",
              "      }\n",
              "    </script>\n",
              "\n",
              "      <script>\n",
              "\n",
              "function displayQuickchartButton(domScope) {\n",
              "  let quickchartButtonEl =\n",
              "    domScope.querySelector('#df-5e568be5-0fb1-4ab8-81b5-d4f2fe66b044 button.colab-df-quickchart');\n",
              "  quickchartButtonEl.style.display =\n",
              "    google.colab.kernel.accessAllowed ? 'block' : 'none';\n",
              "}\n",
              "\n",
              "        displayQuickchartButton(document);\n",
              "      </script>\n",
              "      <style>\n",
              "    .colab-df-container {\n",
              "      display:flex;\n",
              "      flex-wrap:wrap;\n",
              "      gap: 12px;\n",
              "    }\n",
              "\n",
              "    .colab-df-convert {\n",
              "      background-color: #E8F0FE;\n",
              "      border: none;\n",
              "      border-radius: 50%;\n",
              "      cursor: pointer;\n",
              "      display: none;\n",
              "      fill: #1967D2;\n",
              "      height: 32px;\n",
              "      padding: 0 0 0 0;\n",
              "      width: 32px;\n",
              "    }\n",
              "\n",
              "    .colab-df-convert:hover {\n",
              "      background-color: #E2EBFA;\n",
              "      box-shadow: 0px 1px 2px rgba(60, 64, 67, 0.3), 0px 1px 3px 1px rgba(60, 64, 67, 0.15);\n",
              "      fill: #174EA6;\n",
              "    }\n",
              "\n",
              "    [theme=dark] .colab-df-convert {\n",
              "      background-color: #3B4455;\n",
              "      fill: #D2E3FC;\n",
              "    }\n",
              "\n",
              "    [theme=dark] .colab-df-convert:hover {\n",
              "      background-color: #434B5C;\n",
              "      box-shadow: 0px 1px 3px 1px rgba(0, 0, 0, 0.15);\n",
              "      filter: drop-shadow(0px 1px 2px rgba(0, 0, 0, 0.3));\n",
              "      fill: #FFFFFF;\n",
              "    }\n",
              "  </style>\n",
              "\n",
              "      <script>\n",
              "        const buttonEl =\n",
              "          document.querySelector('#df-f50223f8-a8c3-4e9f-88b2-735f813d7438 button.colab-df-convert');\n",
              "        buttonEl.style.display =\n",
              "          google.colab.kernel.accessAllowed ? 'block' : 'none';\n",
              "\n",
              "        async function convertToInteractive(key) {\n",
              "          const element = document.querySelector('#df-f50223f8-a8c3-4e9f-88b2-735f813d7438');\n",
              "          const dataTable =\n",
              "            await google.colab.kernel.invokeFunction('convertToInteractive',\n",
              "                                                     [key], {});\n",
              "          if (!dataTable) return;\n",
              "\n",
              "          const docLinkHtml = 'Like what you see? Visit the ' +\n",
              "            '<a target=\"_blank\" href=https://colab.research.google.com/notebooks/data_table.ipynb>data table notebook</a>'\n",
              "            + ' to learn more about interactive tables.';\n",
              "          element.innerHTML = '';\n",
              "          dataTable['output_type'] = 'display_data';\n",
              "          await google.colab.output.renderOutput(dataTable, element);\n",
              "          const docLink = document.createElement('div');\n",
              "          docLink.innerHTML = docLinkHtml;\n",
              "          element.appendChild(docLink);\n",
              "        }\n",
              "      </script>\n",
              "    </div>\n",
              "  </div>\n"
            ]
          },
          "metadata": {},
          "execution_count": 13
        }
      ]
    },
    {
      "cell_type": "code",
      "source": [
        "df['genero'].unique()"
      ],
      "metadata": {
        "colab": {
          "base_uri": "https://localhost:8080/"
        },
        "id": "tQkSJAeAmRos",
        "outputId": "6ed77584-0646-4121-a4b3-f41243aaa161"
      },
      "execution_count": 14,
      "outputs": [
        {
          "output_type": "execute_result",
          "data": {
            "text/plain": [
              "array([0, 1, 2])"
            ]
          },
          "metadata": {},
          "execution_count": 14
        }
      ]
    },
    {
      "cell_type": "markdown",
      "source": [
        "Se trasncribirán los datos de la coluna 'historial_de_fumar' de texto a número. Los valores que tomarán cada dato serán los siguientes.\n",
        "\n",
        "1. 'never'= 0\n",
        "2. 'No Info'= 1\n",
        "3. 'current'= 2\n",
        "4. 'former'= 3\n",
        "5. 'ever'= 4\n",
        "6. 'not current'= 5  \n",
        "\n"
      ],
      "metadata": {
        "id": "OFUTBKTgPH10"
      }
    },
    {
      "cell_type": "code",
      "source": [
        "#sirve para saber el tipo de dato de una columna\n",
        "df['historial_de_fumar'].unique()"
      ],
      "metadata": {
        "colab": {
          "base_uri": "https://localhost:8080/"
        },
        "id": "XlWE4Kcmk5EO",
        "outputId": "81d43ef7-dce2-4aa2-f9ac-e4293c7107fd"
      },
      "execution_count": 15,
      "outputs": [
        {
          "output_type": "execute_result",
          "data": {
            "text/plain": [
              "array(['never', 'No Info', 'current', 'former', 'ever', 'not current'],\n",
              "      dtype=object)"
            ]
          },
          "metadata": {},
          "execution_count": 15
        }
      ]
    },
    {
      "cell_type": "code",
      "source": [
        "df.loc[df['historial_de_fumar'] == 'never', 'historial_de_fumar'] = 0\n",
        "df.loc[df['historial_de_fumar'] == 'No Info', 'historial_de_fumar'] = 1\n",
        "df.loc[df['historial_de_fumar'] == 'current', 'historial_de_fumar'] = 2\n",
        "df.loc[df['historial_de_fumar'] == 'former', 'historial_de_fumar'] = 3\n",
        "df.loc[df['historial_de_fumar'] == 'ever', 'historial_de_fumar'] = 4\n",
        "df.loc[df['historial_de_fumar'] == 'not current', 'historial_de_fumar'] = 5"
      ],
      "metadata": {
        "id": "qBbUyEeNhm0d"
      },
      "execution_count": 16,
      "outputs": []
    },
    {
      "cell_type": "markdown",
      "source": [
        "Se hace el cambio de objeto a número"
      ],
      "metadata": {
        "id": "ZS8UOJwQjGZu"
      }
    },
    {
      "cell_type": "code",
      "source": [
        "df['historial_de_fumar'] = df['historial_de_fumar'].astype(int, errors = 'raise')"
      ],
      "metadata": {
        "id": "MjG03EXGZRlE"
      },
      "execution_count": 17,
      "outputs": []
    },
    {
      "cell_type": "markdown",
      "source": [
        "Se hizo para saber si era viable eliminar las filas 'No Info', pero se optó por no borrarlas pues contiene demasiados datos."
      ],
      "metadata": {
        "id": "PwaLIOnAnxa3"
      }
    },
    {
      "cell_type": "code",
      "source": [
        "#sirve para saber cuantos datos se tiene de una columna\n",
        "contador = sum(df['historial_de_fumar'] == 1)\n",
        "print(contador)"
      ],
      "metadata": {
        "colab": {
          "base_uri": "https://localhost:8080/"
        },
        "id": "YSfW2mWYiBQT",
        "outputId": "9a00ed07-f19f-4d28-d09e-b9b17b18cb46"
      },
      "execution_count": 18,
      "outputs": [
        {
          "output_type": "stream",
          "name": "stdout",
          "text": [
            "35816\n"
          ]
        }
      ]
    },
    {
      "cell_type": "markdown",
      "source": [
        "Así queda la trascripción de los tipos de datos de objeto a entero. Con esto último finaliza la limpieza de datos."
      ],
      "metadata": {
        "id": "w5U3PAbkoR3J"
      }
    },
    {
      "cell_type": "code",
      "source": [
        "df.info()"
      ],
      "metadata": {
        "colab": {
          "base_uri": "https://localhost:8080/"
        },
        "id": "xC71ZDXMkb9G",
        "outputId": "78b55477-482d-4223-875d-7ff28792b29e"
      },
      "execution_count": 19,
      "outputs": [
        {
          "output_type": "stream",
          "name": "stdout",
          "text": [
            "<class 'pandas.core.frame.DataFrame'>\n",
            "RangeIndex: 100000 entries, 0 to 99999\n",
            "Data columns (total 9 columns):\n",
            " #   Column                  Non-Null Count   Dtype  \n",
            "---  ------                  --------------   -----  \n",
            " 0   genero                  100000 non-null  int64  \n",
            " 1   edad                    100000 non-null  float64\n",
            " 2   hipertension            100000 non-null  int64  \n",
            " 3   enfermedades_cardiacas  100000 non-null  int64  \n",
            " 4   historial_de_fumar      100000 non-null  int64  \n",
            " 5   bmi                     100000 non-null  float64\n",
            " 6   hemoglobina             100000 non-null  float64\n",
            " 7   nivel_glucosa           100000 non-null  int64  \n",
            " 8   diabetes                100000 non-null  int64  \n",
            "dtypes: float64(3), int64(6)\n",
            "memory usage: 6.9 MB\n"
          ]
        }
      ]
    },
    {
      "cell_type": "markdown",
      "source": [
        "**Acondicionando los datos en le mismo formato array para generar el algoritmo**"
      ],
      "metadata": {
        "id": "hb5Ngtir6KKS"
      }
    },
    {
      "cell_type": "code",
      "source": [
        "y=[df['diabetes']]#variable respuesta\n",
        "Y=np.array(df['diabetes'])\n",
        "print(Y)"
      ],
      "metadata": {
        "colab": {
          "base_uri": "https://localhost:8080/"
        },
        "id": "8f-ljW0VfQm4",
        "outputId": "b5d22302-6df6-4430-9ffd-e74f2b9aeff1"
      },
      "execution_count": 20,
      "outputs": [
        {
          "output_type": "stream",
          "name": "stdout",
          "text": [
            "[0 0 0 ... 0 0 0]\n"
          ]
        }
      ]
    },
    {
      "cell_type": "code",
      "source": [
        "c1=pd.to_numeric(df['genero'], errors='coerce')#variablers entrada\n",
        "c2=pd.to_numeric(df['edad'], errors='coerce')\n",
        "c3=pd.to_numeric(df['hipertension'], errors='coerce')\n",
        "c4=pd.to_numeric(df['enfermedades_cardiacas'], errors='coerce')\n",
        "c5=pd.to_numeric(df['historial_de_fumar'], errors='coerce')\n",
        "c6=pd.to_numeric(df['bmi'], errors='coerce')\n",
        "c7=pd.to_numeric(df['hemoglobina'], errors='coerce')\n",
        "c8=pd.to_numeric(df['nivel_glucosa'], errors='coerce')\n",
        "x1=np.array(c1)\n",
        "x2=np.array(c2)\n",
        "x3=np.array(c3)\n",
        "x4=np.array(c4)\n",
        "x5=np.array(c5)\n",
        "x6=np.array(c6)\n",
        "x7=np.array(c7)\n",
        "x8=np.array(c8)\n"
      ],
      "metadata": {
        "id": "roTtwZFr7xem"
      },
      "execution_count": 21,
      "outputs": []
    },
    {
      "cell_type": "code",
      "source": [
        "salidax=[]\n",
        "for i in range(len(c1)):\n",
        "    aux=[]\n",
        "    aux.append(x1[i])\n",
        "    aux.append(x2[i])\n",
        "    aux.append(x3[i])\n",
        "    aux.append(x4[i])\n",
        "    aux.append(x5[i])\n",
        "    aux.append(x6[i])\n",
        "    aux.append(x7[i])\n",
        "    aux.append(x8[i])\n",
        "    salidax.append(aux)\n",
        "X=np.array(salidax)\n",
        "X"
      ],
      "metadata": {
        "colab": {
          "base_uri": "https://localhost:8080/"
        },
        "id": "Rb533vHHamHq",
        "outputId": "08c175ab-90b8-478a-82ce-0f2ad42ea679"
      },
      "execution_count": 22,
      "outputs": [
        {
          "output_type": "execute_result",
          "data": {
            "text/plain": [
              "array([[  0.  ,  80.  ,   0.  , ...,  25.19,   6.6 , 140.  ],\n",
              "       [  0.  ,  54.  ,   0.  , ...,  27.32,   6.6 ,  80.  ],\n",
              "       [  1.  ,  28.  ,   0.  , ...,  27.32,   5.7 , 158.  ],\n",
              "       ...,\n",
              "       [  1.  ,  66.  ,   0.  , ...,  27.83,   5.7 , 155.  ],\n",
              "       [  0.  ,  24.  ,   0.  , ...,  35.42,   4.  , 100.  ],\n",
              "       [  0.  ,  57.  ,   0.  , ...,  22.43,   6.6 ,  90.  ]])"
            ]
          },
          "metadata": {},
          "execution_count": 22
        }
      ]
    },
    {
      "cell_type": "code",
      "source": [
        "print(X[0])\n",
        "print('---------')\n",
        "print(Y[0])"
      ],
      "metadata": {
        "colab": {
          "base_uri": "https://localhost:8080/"
        },
        "id": "YN61tWbDbYmm",
        "outputId": "9a84f63d-08d0-4586-e41f-dd3969929bcb"
      },
      "execution_count": 23,
      "outputs": [
        {
          "output_type": "stream",
          "name": "stdout",
          "text": [
            "[  0.    80.     0.     1.     0.    25.19   6.6  140.  ]\n",
            "---------\n",
            "0\n"
          ]
        }
      ]
    },
    {
      "cell_type": "markdown",
      "source": [
        "# Entrenamiento del modelo"
      ],
      "metadata": {
        "id": "K96QXFqi2cED"
      }
    },
    {
      "cell_type": "markdown",
      "source": [
        "**Dividir el conjunto entre datos de entrenamiento y datos de prueba, los datos de\n",
        "prueba serán el 15% del dataset**"
      ],
      "metadata": {
        "id": "fGFVG9Td0AvL"
      }
    },
    {
      "cell_type": "code",
      "source": [
        "from sklearn.neighbors import KNeighborsClassifier\n",
        "from sklearn.model_selection import train_test_split\n",
        "X_train,X_test,Y_train,Y_test=train_test_split(X,Y, test_size=0.15)"
      ],
      "metadata": {
        "id": "BwbMIBtGg1dp"
      },
      "execution_count": 24,
      "outputs": []
    },
    {
      "cell_type": "markdown",
      "source": [
        "Se divide train (datos aleatorios para generar el modelo) entre el test para saber si el modelo funciona"
      ],
      "metadata": {
        "id": "WtWvmnkd2k_E"
      }
    },
    {
      "cell_type": "code",
      "source": [
        "print(X_test)\n",
        "print('--------------------------')\n",
        "print(Y_test)"
      ],
      "metadata": {
        "colab": {
          "base_uri": "https://localhost:8080/"
        },
        "id": "Tq79X-SUrKLv",
        "outputId": "e902aced-caeb-4045-a0f3-79e3bef88670"
      },
      "execution_count": 25,
      "outputs": [
        {
          "output_type": "stream",
          "name": "stdout",
          "text": [
            "[[  0.    44.     0.   ...  19.58   4.5  130.  ]\n",
            " [  1.    49.     0.   ...  34.1    4.8  126.  ]\n",
            " [  0.     9.     0.   ...  27.32   6.5   80.  ]\n",
            " ...\n",
            " [  0.    80.     0.   ...  27.32   5.7  158.  ]\n",
            " [  1.    11.     0.   ...  27.32   6.1  140.  ]\n",
            " [  1.    38.     0.   ...  29.15   6.    90.  ]]\n",
            "--------------------------\n",
            "[0 0 0 ... 0 0 0]\n"
          ]
        }
      ]
    },
    {
      "cell_type": "code",
      "source": [
        "print(X_train)\n",
        "print('--------------------------')\n",
        "print(Y_train)"
      ],
      "metadata": {
        "colab": {
          "base_uri": "https://localhost:8080/"
        },
        "id": "QRp76mkurUHl",
        "outputId": "b7c7d3f8-e678-40b4-f219-a51090a71db7"
      },
      "execution_count": 26,
      "outputs": [
        {
          "output_type": "stream",
          "name": "stdout",
          "text": [
            "[[  0.    65.     1.   ...  35.93   4.8   85.  ]\n",
            " [  0.    80.     0.   ...  33.3    4.8  145.  ]\n",
            " [  1.    25.     0.   ...  27.32   6.2  130.  ]\n",
            " ...\n",
            " [  1.    80.     0.   ...  33.18   4.8  130.  ]\n",
            " [  1.    58.     0.   ...  30.41   6.   100.  ]\n",
            " [  1.    44.     0.   ...  27.6    6.    80.  ]]\n",
            "--------------------------\n",
            "[0 0 0 ... 0 0 0]\n"
          ]
        }
      ]
    },
    {
      "cell_type": "markdown",
      "source": [
        "**Aplicar el algoritmo de clasificación de los K vecinos más cercanos**"
      ],
      "metadata": {
        "id": "XuI3T8bu0edd"
      }
    },
    {
      "cell_type": "code",
      "source": [
        "Knn=KNeighborsClassifier(n_neighbors=2)# antes era 3\n",
        "Knn.fit(X_train,Y_train)"
      ],
      "metadata": {
        "colab": {
          "base_uri": "https://localhost:8080/",
          "height": 74
        },
        "id": "w3SKMzlmraGH",
        "outputId": "7ccfbf7e-0ba2-497f-ef93-3e3cbc4bd379"
      },
      "execution_count": 27,
      "outputs": [
        {
          "output_type": "execute_result",
          "data": {
            "text/plain": [
              "KNeighborsClassifier(n_neighbors=2)"
            ],
            "text/html": [
              "<style>#sk-container-id-1 {color: black;background-color: white;}#sk-container-id-1 pre{padding: 0;}#sk-container-id-1 div.sk-toggleable {background-color: white;}#sk-container-id-1 label.sk-toggleable__label {cursor: pointer;display: block;width: 100%;margin-bottom: 0;padding: 0.3em;box-sizing: border-box;text-align: center;}#sk-container-id-1 label.sk-toggleable__label-arrow:before {content: \"▸\";float: left;margin-right: 0.25em;color: #696969;}#sk-container-id-1 label.sk-toggleable__label-arrow:hover:before {color: black;}#sk-container-id-1 div.sk-estimator:hover label.sk-toggleable__label-arrow:before {color: black;}#sk-container-id-1 div.sk-toggleable__content {max-height: 0;max-width: 0;overflow: hidden;text-align: left;background-color: #f0f8ff;}#sk-container-id-1 div.sk-toggleable__content pre {margin: 0.2em;color: black;border-radius: 0.25em;background-color: #f0f8ff;}#sk-container-id-1 input.sk-toggleable__control:checked~div.sk-toggleable__content {max-height: 200px;max-width: 100%;overflow: auto;}#sk-container-id-1 input.sk-toggleable__control:checked~label.sk-toggleable__label-arrow:before {content: \"▾\";}#sk-container-id-1 div.sk-estimator input.sk-toggleable__control:checked~label.sk-toggleable__label {background-color: #d4ebff;}#sk-container-id-1 div.sk-label input.sk-toggleable__control:checked~label.sk-toggleable__label {background-color: #d4ebff;}#sk-container-id-1 input.sk-hidden--visually {border: 0;clip: rect(1px 1px 1px 1px);clip: rect(1px, 1px, 1px, 1px);height: 1px;margin: -1px;overflow: hidden;padding: 0;position: absolute;width: 1px;}#sk-container-id-1 div.sk-estimator {font-family: monospace;background-color: #f0f8ff;border: 1px dotted black;border-radius: 0.25em;box-sizing: border-box;margin-bottom: 0.5em;}#sk-container-id-1 div.sk-estimator:hover {background-color: #d4ebff;}#sk-container-id-1 div.sk-parallel-item::after {content: \"\";width: 100%;border-bottom: 1px solid gray;flex-grow: 1;}#sk-container-id-1 div.sk-label:hover label.sk-toggleable__label {background-color: #d4ebff;}#sk-container-id-1 div.sk-serial::before {content: \"\";position: absolute;border-left: 1px solid gray;box-sizing: border-box;top: 0;bottom: 0;left: 50%;z-index: 0;}#sk-container-id-1 div.sk-serial {display: flex;flex-direction: column;align-items: center;background-color: white;padding-right: 0.2em;padding-left: 0.2em;position: relative;}#sk-container-id-1 div.sk-item {position: relative;z-index: 1;}#sk-container-id-1 div.sk-parallel {display: flex;align-items: stretch;justify-content: center;background-color: white;position: relative;}#sk-container-id-1 div.sk-item::before, #sk-container-id-1 div.sk-parallel-item::before {content: \"\";position: absolute;border-left: 1px solid gray;box-sizing: border-box;top: 0;bottom: 0;left: 50%;z-index: -1;}#sk-container-id-1 div.sk-parallel-item {display: flex;flex-direction: column;z-index: 1;position: relative;background-color: white;}#sk-container-id-1 div.sk-parallel-item:first-child::after {align-self: flex-end;width: 50%;}#sk-container-id-1 div.sk-parallel-item:last-child::after {align-self: flex-start;width: 50%;}#sk-container-id-1 div.sk-parallel-item:only-child::after {width: 0;}#sk-container-id-1 div.sk-dashed-wrapped {border: 1px dashed gray;margin: 0 0.4em 0.5em 0.4em;box-sizing: border-box;padding-bottom: 0.4em;background-color: white;}#sk-container-id-1 div.sk-label label {font-family: monospace;font-weight: bold;display: inline-block;line-height: 1.2em;}#sk-container-id-1 div.sk-label-container {text-align: center;}#sk-container-id-1 div.sk-container {/* jupyter's `normalize.less` sets `[hidden] { display: none; }` but bootstrap.min.css set `[hidden] { display: none !important; }` so we also need the `!important` here to be able to override the default hidden behavior on the sphinx rendered scikit-learn.org. See: https://github.com/scikit-learn/scikit-learn/issues/21755 */display: inline-block !important;position: relative;}#sk-container-id-1 div.sk-text-repr-fallback {display: none;}</style><div id=\"sk-container-id-1\" class=\"sk-top-container\"><div class=\"sk-text-repr-fallback\"><pre>KNeighborsClassifier(n_neighbors=2)</pre><b>In a Jupyter environment, please rerun this cell to show the HTML representation or trust the notebook. <br />On GitHub, the HTML representation is unable to render, please try loading this page with nbviewer.org.</b></div><div class=\"sk-container\" hidden><div class=\"sk-item\"><div class=\"sk-estimator sk-toggleable\"><input class=\"sk-toggleable__control sk-hidden--visually\" id=\"sk-estimator-id-1\" type=\"checkbox\" checked><label for=\"sk-estimator-id-1\" class=\"sk-toggleable__label sk-toggleable__label-arrow\">KNeighborsClassifier</label><div class=\"sk-toggleable__content\"><pre>KNeighborsClassifier(n_neighbors=2)</pre></div></div></div></div></div>"
            ]
          },
          "metadata": {},
          "execution_count": 27
        }
      ]
    },
    {
      "cell_type": "markdown",
      "source": [
        "**Calcular puntajes de clasificación**"
      ],
      "metadata": {
        "id": "Ze48Y8Gg1wWR"
      }
    },
    {
      "cell_type": "markdown",
      "source": [
        "Con la siguiente linea se busca saber que tan efectiva es la predicción."
      ],
      "metadata": {
        "id": "wXMpBkRRSD6R"
      }
    },
    {
      "cell_type": "code",
      "source": [
        "Knn.score(X_test,Y_test)#Predice en 95% las personas que pueden tener diabetes"
      ],
      "metadata": {
        "colab": {
          "base_uri": "https://localhost:8080/"
        },
        "id": "N4e6zF9mros6",
        "outputId": "eb7a4a7c-e056-4dfc-d64a-753542a63f27"
      },
      "execution_count": 28,
      "outputs": [
        {
          "output_type": "execute_result",
          "data": {
            "text/plain": [
              "0.9512666666666667"
            ]
          },
          "metadata": {},
          "execution_count": 28
        }
      ]
    },
    {
      "cell_type": "markdown",
      "source": [
        "Ahora, se probará la efectividad del entrenamiento. Se le darán datos aleatorios para que realice la predicción y se asignará un dato a cada columna.\n",
        "\n",
        "* Genero:'Female' = 0\n",
        "* Edad: 15\n",
        "* Hipertención(0=no, 1=si): 1\n",
        "* Enfermedades cardiacas(0=no, 1=si): 1\n",
        "* Historial de fumar(0=no, 1=si): 0\n",
        "* Indice de masa corporal BMI: 23.55\n",
        "* Hemoglobina: 9.0\n",
        "* Nivel de glucosa:90\n",
        "\n",
        "Para saber si la persona tiene diabetes 0 será igual a no y 1 será igual a si.    \n",
        "\n"
      ],
      "metadata": {
        "id": "XpCs9cvPR96o"
      }
    },
    {
      "cell_type": "code",
      "source": [
        "observacion=[[0,15,1,1,0,23.55,9.0,90]]#prueba del entrenamiento\n",
        "print(observacion)\n",
        "ob=np.array(observacion)\n",
        "print(ob)\n",
        "ob.reshape(1,-1)\n",
        "print(ob)"
      ],
      "metadata": {
        "colab": {
          "base_uri": "https://localhost:8080/"
        },
        "id": "Q1E5JUCprynn",
        "outputId": "e475a41e-6e9c-41c2-bfca-b53e6737bf19"
      },
      "execution_count": 29,
      "outputs": [
        {
          "output_type": "stream",
          "name": "stdout",
          "text": [
            "[[0, 15, 1, 1, 0, 23.55, 9.0, 90]]\n",
            "[[ 0.   15.    1.    1.    0.   23.55  9.   90.  ]]\n",
            "[[ 0.   15.    1.    1.    0.   23.55  9.   90.  ]]\n"
          ]
        }
      ]
    },
    {
      "cell_type": "markdown",
      "source": [
        "A continuación, el resultado muesta que la persona no tiene diabetes"
      ],
      "metadata": {
        "id": "mEhQB53zXcSV"
      }
    },
    {
      "cell_type": "code",
      "source": [
        "Knn.predict(ob)#segun la prediccion es....."
      ],
      "metadata": {
        "colab": {
          "base_uri": "https://localhost:8080/"
        },
        "id": "z-DURcAtsx8N",
        "outputId": "44ddb2e5-15c3-4f8d-92cf-954a97ce1e2c"
      },
      "execution_count": 30,
      "outputs": [
        {
          "output_type": "execute_result",
          "data": {
            "text/plain": [
              "array([0])"
            ]
          },
          "metadata": {},
          "execution_count": 30
        }
      ]
    },
    {
      "cell_type": "markdown",
      "source": [
        "En la siguiente parte se busca saber, cuantos datos debe contener un grupo para que la predicción sea más eficaz. Por los resultados obtenidos se decide cambiar el cluster a 2"
      ],
      "metadata": {
        "id": "0dIZocNW2x_l"
      }
    },
    {
      "cell_type": "code",
      "source": [
        "train_scores={}#para escoger el mejor cluster\n",
        "test_scores={}\n",
        "neighbors=np.arange(1,10)\n",
        "for neighbor in neighbors:\n",
        "  knn=KNeighborsClassifier(n_neighbors=neighbor)\n",
        "  knn.fit(X_train,Y_train)\n",
        "  train_scores[neighbor]=knn.score(X_train,Y_train)\n",
        "  test_scores[neighbor]=knn.score(X_test,Y_test)\n",
        "print(train_scores)\n",
        "print(test_scores)"
      ],
      "metadata": {
        "colab": {
          "base_uri": "https://localhost:8080/"
        },
        "id": "hsFsQqxttFbo",
        "outputId": "f523bba7-4549-4fa0-bc11-de89d116cef0"
      },
      "execution_count": 31,
      "outputs": [
        {
          "output_type": "stream",
          "name": "stdout",
          "text": [
            "{1: 0.9992823529411765, 2: 0.9665882352941176, 3: 0.968964705882353, 4: 0.9611058823529411, 5: 0.9628823529411765, 6: 0.9592235294117647, 7: 0.9606235294117647, 8: 0.9571411764705883, 9: 0.9580235294117647}\n",
            "{1: 0.9381333333333334, 2: 0.9512666666666667, 3: 0.9503333333333334, 4: 0.9516, 5: 0.9506, 6: 0.9506, 7: 0.9514, 8: 0.9498666666666666, 9: 0.9506}\n"
          ]
        }
      ]
    },
    {
      "cell_type": "markdown",
      "source": [
        "# Conclusión"
      ],
      "metadata": {
        "id": "jBBvULBn4xiM"
      }
    },
    {
      "cell_type": "markdown",
      "source": [
        "La clasificación fué buena, pues por medio de Kvecinos se puede predecir con los datos recolectados si una persona tiene o no diabetes con una efectividad de más del 80%."
      ],
      "metadata": {
        "id": "cnguIeK64u0a"
      }
    },
    {
      "cell_type": "code",
      "source": [
        "print(Y_test)# no sé por qué da asi\n",
        "print(Knn.predict(X_test))"
      ],
      "metadata": {
        "colab": {
          "base_uri": "https://localhost:8080/"
        },
        "id": "M65Y_SClyvxx",
        "outputId": "b3a382e9-f799-44dd-a7df-4f257e8de5ef"
      },
      "execution_count": 32,
      "outputs": [
        {
          "output_type": "stream",
          "name": "stdout",
          "text": [
            "[0 0 0 ... 0 0 0]\n",
            "[0 0 0 ... 0 0 0]\n"
          ]
        }
      ]
    },
    {
      "cell_type": "markdown",
      "source": [
        "Sin embargo, la matriz arroja que el 4.3% de las personas con diabetes pueden ser diagnosticadas con un resultado negativo erroneo."
      ],
      "metadata": {
        "id": "3-uEYIVhgis9"
      }
    },
    {
      "cell_type": "code",
      "source": [
        "from sklearn.metrics import confusion_matrix"
      ],
      "metadata": {
        "id": "OHPJM_0u3D-h"
      },
      "execution_count": 33,
      "outputs": []
    },
    {
      "cell_type": "code",
      "source": [
        "confusion_matrix(Y_test, knn.predict(X_test))"
      ],
      "metadata": {
        "colab": {
          "base_uri": "https://localhost:8080/"
        },
        "id": "5JfNUfloz0I_",
        "outputId": "7fa234e7-3785-4970-c440-7a267f849223"
      },
      "execution_count": 34,
      "outputs": [
        {
          "output_type": "execute_result",
          "data": {
            "text/plain": [
              "array([[13601,    46],\n",
              "       [  695,   658]])"
            ]
          },
          "metadata": {},
          "execution_count": 34
        }
      ]
    },
    {
      "cell_type": "markdown",
      "source": [
        "Si bien el entrenamiento fue exitoso, contó con una gran cantidad de datos y tieneuna alta presición al identificar si una persona padece esta enfermadad. No se pueden pasar por alto los datos que toma como negativos cuando en realidad son positivos, por tanto; puede ser necesario añadir más variables que aporten más información para reducir esta cifra y evitar la mayor cantidad posible de errores en futuros diagnosticos."
      ],
      "metadata": {
        "id": "kjyfQ6dPhiY3"
      }
    },
    {
      "cell_type": "markdown",
      "source": [
        "# PUNTO 2 KMEDIAS"
      ],
      "metadata": {
        "id": "sttCPM-xjJ_g"
      }
    },
    {
      "cell_type": "markdown",
      "source": [
        "**DATASET**"
      ],
      "metadata": {
        "id": "yhV5nZs-kNF5"
      }
    },
    {
      "cell_type": "code",
      "source": [
        "import pandas as pd\n",
        "import numpy as np\n",
        "loan= pd.read_csv('Loan_Train.csv', delimiter=',')"
      ],
      "metadata": {
        "id": "O6QKdvAAkOxx"
      },
      "execution_count": 1,
      "outputs": []
    },
    {
      "cell_type": "markdown",
      "source": [
        "Para este ejercicio se escoge un dataset que recopiló datos sobre personas que estaban interesadas en adquirir un prestamo hipotecario. La información que contiene está relacionada al genero, los ingresos, en dónde viven, dependientes, terminos y plazos de pago."
      ],
      "metadata": {
        "id": "5X1LiCg2kXoa"
      }
    },
    {
      "cell_type": "code",
      "source": [
        "loan.info()"
      ],
      "metadata": {
        "colab": {
          "base_uri": "https://localhost:8080/"
        },
        "id": "RRrPEeIVkTx4",
        "outputId": "3228bbd7-9600-4d32-9299-6601dee030e1"
      },
      "execution_count": 2,
      "outputs": [
        {
          "output_type": "stream",
          "name": "stdout",
          "text": [
            "<class 'pandas.core.frame.DataFrame'>\n",
            "RangeIndex: 614 entries, 0 to 613\n",
            "Data columns (total 13 columns):\n",
            " #   Column             Non-Null Count  Dtype  \n",
            "---  ------             --------------  -----  \n",
            " 0   Loan_ID            614 non-null    object \n",
            " 1   Gender             601 non-null    object \n",
            " 2   Married            611 non-null    object \n",
            " 3   Dependents         599 non-null    object \n",
            " 4   Education          614 non-null    object \n",
            " 5   Self_Employed      582 non-null    object \n",
            " 6   ApplicantIncome    614 non-null    int64  \n",
            " 7   CoapplicantIncome  614 non-null    float64\n",
            " 8   LoanAmount         592 non-null    float64\n",
            " 9   Loan_Amount_Term   600 non-null    float64\n",
            " 10  Credit_History     564 non-null    float64\n",
            " 11  Property_Area      614 non-null    object \n",
            " 12  Loan_Status        614 non-null    object \n",
            "dtypes: float64(4), int64(1), object(8)\n",
            "memory usage: 62.5+ KB\n"
          ]
        }
      ]
    },
    {
      "cell_type": "markdown",
      "source": [
        "# **LIMPIEZA**"
      ],
      "metadata": {
        "id": "BxaJ4OkUk9R3"
      }
    },
    {
      "cell_type": "markdown",
      "source": [
        "Para la limpieza se elimina la primera columna, pues el ID de solicitud de cada cliente es único y no da información relevante para agrupación de Kmedias."
      ],
      "metadata": {
        "id": "fRuiC73llFM3"
      }
    },
    {
      "cell_type": "code",
      "source": [
        "del(loan['Loan_ID'])"
      ],
      "metadata": {
        "id": "9za3Il9ulLHF"
      },
      "execution_count": 3,
      "outputs": []
    },
    {
      "cell_type": "markdown",
      "source": [
        "Ahora se borran las filas a las que les haga falta datos.Para manejar una totalidad de 480 filas."
      ],
      "metadata": {
        "id": "tR8tVZMylK0a"
      }
    },
    {
      "cell_type": "code",
      "source": [
        "loan=loan.dropna(axis=0, how='any')"
      ],
      "metadata": {
        "id": "gRTrzjY8lTwb"
      },
      "execution_count": 4,
      "outputs": []
    },
    {
      "cell_type": "code",
      "source": [
        "loan.info()"
      ],
      "metadata": {
        "colab": {
          "base_uri": "https://localhost:8080/"
        },
        "id": "CYaSufGOlXBN",
        "outputId": "fae5fd1c-1a4a-4ff5-ee73-1c9716dea02e"
      },
      "execution_count": 5,
      "outputs": [
        {
          "output_type": "stream",
          "name": "stdout",
          "text": [
            "<class 'pandas.core.frame.DataFrame'>\n",
            "Int64Index: 480 entries, 1 to 613\n",
            "Data columns (total 12 columns):\n",
            " #   Column             Non-Null Count  Dtype  \n",
            "---  ------             --------------  -----  \n",
            " 0   Gender             480 non-null    object \n",
            " 1   Married            480 non-null    object \n",
            " 2   Dependents         480 non-null    object \n",
            " 3   Education          480 non-null    object \n",
            " 4   Self_Employed      480 non-null    object \n",
            " 5   ApplicantIncome    480 non-null    int64  \n",
            " 6   CoapplicantIncome  480 non-null    float64\n",
            " 7   LoanAmount         480 non-null    float64\n",
            " 8   Loan_Amount_Term   480 non-null    float64\n",
            " 9   Credit_History     480 non-null    float64\n",
            " 10  Property_Area      480 non-null    object \n",
            " 11  Loan_Status        480 non-null    object \n",
            "dtypes: float64(4), int64(1), object(7)\n",
            "memory usage: 48.8+ KB\n"
          ]
        }
      ]
    },
    {
      "cell_type": "markdown",
      "source": [
        "Se prosigue realizamdo el cambio de nombre de las columnas."
      ],
      "metadata": {
        "id": "SAosxRwylgYJ"
      }
    },
    {
      "cell_type": "code",
      "source": [
        "loan.set_axis([ 'genero', 'casado/soltero','#dependientes','educacion','trabajador_indepen', 'ingresos', 'ingresos_cosolicitante', 'monto_prestamo', 'plazo_en_meses', 'historial_crediticio', 'area_de_propiedad', 'prestamo_aprobado'],\n",
        "                    axis='columns', inplace=True)"
      ],
      "metadata": {
        "colab": {
          "base_uri": "https://localhost:8080/"
        },
        "id": "VYB7iRkTlfSH",
        "outputId": "86c88823-b85d-4a52-a016-d2154c414dfe"
      },
      "execution_count": 6,
      "outputs": [
        {
          "output_type": "stream",
          "name": "stderr",
          "text": [
            "<ipython-input-6-435ca47ff56d>:1: FutureWarning: DataFrame.set_axis 'inplace' keyword is deprecated and will be removed in a future version. Use `obj = obj.set_axis(..., copy=False)` instead\n",
            "  loan.set_axis([ 'genero', 'casado/soltero','#dependientes','educacion','trabajador_indepen', 'ingresos', 'ingresos_cosolicitante', 'monto_prestamo', 'plazo_en_meses', 'historial_crediticio', 'area_de_propiedad', 'prestamo_aprobado'],\n"
          ]
        }
      ]
    },
    {
      "cell_type": "code",
      "source": [
        "loan.info()"
      ],
      "metadata": {
        "colab": {
          "base_uri": "https://localhost:8080/"
        },
        "id": "tWLLh0AEllEu",
        "outputId": "84b2321f-2712-4a6d-d9b5-0d4c05ba9125"
      },
      "execution_count": 7,
      "outputs": [
        {
          "output_type": "stream",
          "name": "stdout",
          "text": [
            "<class 'pandas.core.frame.DataFrame'>\n",
            "Int64Index: 480 entries, 1 to 613\n",
            "Data columns (total 12 columns):\n",
            " #   Column                  Non-Null Count  Dtype  \n",
            "---  ------                  --------------  -----  \n",
            " 0   genero                  480 non-null    object \n",
            " 1   casado/soltero          480 non-null    object \n",
            " 2   #dependientes           480 non-null    object \n",
            " 3   educacion               480 non-null    object \n",
            " 4   trabajador_indepen      480 non-null    object \n",
            " 5   ingresos                480 non-null    int64  \n",
            " 6   ingresos_cosolicitante  480 non-null    float64\n",
            " 7   monto_prestamo          480 non-null    float64\n",
            " 8   plazo_en_meses          480 non-null    float64\n",
            " 9   historial_crediticio    480 non-null    float64\n",
            " 10  area_de_propiedad       480 non-null    object \n",
            " 11  prestamo_aprobado       480 non-null    object \n",
            "dtypes: float64(4), int64(1), object(7)\n",
            "memory usage: 48.8+ KB\n"
          ]
        }
      ]
    },
    {
      "cell_type": "markdown",
      "source": [
        "Debido a que el dataset cuenta con varias columnas en formato de objetos, para la limpieza se transcribirán y pasarán los datos a número.\n",
        "En las siguientes columnas.\n",
        "\n",
        "* genero\n",
        "* casado/soltero\n",
        "* #dependientes\n",
        "* educacion\n",
        "* trabajador_indepen\n",
        "* area_de_propiedad\n",
        "* prestamo_aprobado\n",
        "\n"
      ],
      "metadata": {
        "id": "wwNTtk4_lrOx"
      }
    },
    {
      "cell_type": "markdown",
      "source": [
        "**Genero**\n",
        "\n",
        "* Male = 0\n",
        "* Female = 1"
      ],
      "metadata": {
        "id": "X-vkSWfolv_H"
      }
    },
    {
      "cell_type": "code",
      "source": [
        "loan['genero'].unique()"
      ],
      "metadata": {
        "colab": {
          "base_uri": "https://localhost:8080/"
        },
        "id": "lx2-ydh9lq7e",
        "outputId": "2e3922ff-9089-4785-a734-642ac70518b9"
      },
      "execution_count": 8,
      "outputs": [
        {
          "output_type": "execute_result",
          "data": {
            "text/plain": [
              "array(['Male', 'Female'], dtype=object)"
            ]
          },
          "metadata": {},
          "execution_count": 8
        }
      ]
    },
    {
      "cell_type": "code",
      "source": [
        "loan.loc[loan['genero'] == 'Female', 'genero'] = 0\n",
        "loan.loc[loan['genero'] == 'Male', 'genero'] = 1"
      ],
      "metadata": {
        "id": "u1Y7kNTIl1sD"
      },
      "execution_count": 9,
      "outputs": []
    },
    {
      "cell_type": "code",
      "source": [
        "loan['genero'] = loan['genero'].astype(int, errors = 'raise')"
      ],
      "metadata": {
        "id": "dFTCZaPal3Mp"
      },
      "execution_count": 10,
      "outputs": []
    },
    {
      "cell_type": "markdown",
      "source": [
        "**Casado/soltero**\n",
        "* Yes = 0\n",
        "* No = 1"
      ],
      "metadata": {
        "id": "DfCTfIRYmC0g"
      }
    },
    {
      "cell_type": "code",
      "source": [
        "loan['casado/soltero'].unique()"
      ],
      "metadata": {
        "colab": {
          "base_uri": "https://localhost:8080/"
        },
        "id": "q2vHYuLWmABt",
        "outputId": "a8a35527-c1b6-4ef2-d953-93db46473c6e"
      },
      "execution_count": 11,
      "outputs": [
        {
          "output_type": "execute_result",
          "data": {
            "text/plain": [
              "array(['Yes', 'No'], dtype=object)"
            ]
          },
          "metadata": {},
          "execution_count": 11
        }
      ]
    },
    {
      "cell_type": "code",
      "source": [
        "loan.loc[loan['casado/soltero'] == 'Yes', 'casado/soltero'] = 0\n",
        "loan.loc[loan['casado/soltero'] == 'No', 'casado/soltero'] = 1"
      ],
      "metadata": {
        "id": "l1KpmgjjmIjR"
      },
      "execution_count": 12,
      "outputs": []
    },
    {
      "cell_type": "code",
      "source": [
        "loan['casado/soltero'] = loan['casado/soltero'].astype(int, errors = 'raise')"
      ],
      "metadata": {
        "id": "-FI8sNlpmJ6e"
      },
      "execution_count": 13,
      "outputs": []
    },
    {
      "cell_type": "markdown",
      "source": [
        "**#dependientes**\n",
        "\n",
        "Esta columna cuenta con datos númericos a excepción del objeto que indica más de tres hijos, este último será representado por el número 3."
      ],
      "metadata": {
        "id": "9zxtHRHlmNgC"
      }
    },
    {
      "cell_type": "code",
      "source": [
        "loan['#dependientes'].unique()"
      ],
      "metadata": {
        "colab": {
          "base_uri": "https://localhost:8080/"
        },
        "id": "OKwHsxG9mULu",
        "outputId": "9e92ac0b-fac8-4691-f7dc-ca6750bc808d"
      },
      "execution_count": 14,
      "outputs": [
        {
          "output_type": "execute_result",
          "data": {
            "text/plain": [
              "array(['1', '0', '2', '3+'], dtype=object)"
            ]
          },
          "metadata": {},
          "execution_count": 14
        }
      ]
    },
    {
      "cell_type": "code",
      "source": [
        "loan.loc[loan['#dependientes'] == '3+', '#dependientes'] = 3"
      ],
      "metadata": {
        "id": "sQqefxSemVTe"
      },
      "execution_count": 15,
      "outputs": []
    },
    {
      "cell_type": "code",
      "source": [
        "loan['#dependientes'] = loan['#dependientes'].astype(int, errors = 'raise')"
      ],
      "metadata": {
        "id": "5L9RVyoHmY1o"
      },
      "execution_count": 16,
      "outputs": []
    },
    {
      "cell_type": "markdown",
      "source": [
        "**Educación**\n",
        "\n",
        "* Graduate= 0\n",
        "* Not Graduate= 1"
      ],
      "metadata": {
        "id": "ZaI0DybwmNU2"
      }
    },
    {
      "cell_type": "code",
      "source": [
        "loan['educacion'].unique()"
      ],
      "metadata": {
        "colab": {
          "base_uri": "https://localhost:8080/"
        },
        "id": "e09tciqPmgRh",
        "outputId": "7ce1c4ac-cf38-4436-8819-d4f6b1302808"
      },
      "execution_count": 17,
      "outputs": [
        {
          "output_type": "execute_result",
          "data": {
            "text/plain": [
              "array(['Graduate', 'Not Graduate'], dtype=object)"
            ]
          },
          "metadata": {},
          "execution_count": 17
        }
      ]
    },
    {
      "cell_type": "code",
      "source": [
        "loan.loc[loan['educacion'] == 'Graduate', 'educacion'] = 0\n",
        "loan.loc[loan['educacion'] == 'Not Graduate', 'educacion'] = 1"
      ],
      "metadata": {
        "id": "BO9o_-I3mjT4"
      },
      "execution_count": 18,
      "outputs": []
    },
    {
      "cell_type": "code",
      "source": [
        "loan['educacion'] = loan['educacion'].astype(int, errors = 'raise')"
      ],
      "metadata": {
        "id": "RpZw3YbCml83"
      },
      "execution_count": 19,
      "outputs": []
    },
    {
      "cell_type": "markdown",
      "source": [
        "**trabajador_indepen**\n",
        "* No = 0\n",
        "* Yes = 1"
      ],
      "metadata": {
        "id": "GA5JoIAjmrWP"
      }
    },
    {
      "cell_type": "code",
      "source": [
        "loan['trabajador_indepen'].unique()"
      ],
      "metadata": {
        "colab": {
          "base_uri": "https://localhost:8080/"
        },
        "id": "AbGnS-tImszf",
        "outputId": "779c7155-669b-472f-b00a-f82a08421d77"
      },
      "execution_count": 20,
      "outputs": [
        {
          "output_type": "execute_result",
          "data": {
            "text/plain": [
              "array(['No', 'Yes'], dtype=object)"
            ]
          },
          "metadata": {},
          "execution_count": 20
        }
      ]
    },
    {
      "cell_type": "code",
      "source": [
        "loan.loc[loan['trabajador_indepen'] == 'No', 'trabajador_indepen'] = 0\n",
        "loan.loc[loan['trabajador_indepen'] == 'Yes', 'trabajador_indepen'] = 1"
      ],
      "metadata": {
        "id": "rIMBC9ccmv7p"
      },
      "execution_count": 21,
      "outputs": []
    },
    {
      "cell_type": "code",
      "source": [
        "loan['trabajador_indepen'] = loan['trabajador_indepen'].astype(int, errors = 'raise')"
      ],
      "metadata": {
        "id": "sdkb_eDfmyyk"
      },
      "execution_count": 22,
      "outputs": []
    },
    {
      "cell_type": "markdown",
      "source": [
        "**area_de_propiedad**\n",
        "\n",
        "* Rural = 0\n",
        "* Urban = 1\n",
        "* Semiurban = 2"
      ],
      "metadata": {
        "id": "eY9xdxk1m1pY"
      }
    },
    {
      "cell_type": "code",
      "source": [
        "loan['area_de_propiedad'].unique()"
      ],
      "metadata": {
        "colab": {
          "base_uri": "https://localhost:8080/"
        },
        "id": "r8QRLQ7Um4ZQ",
        "outputId": "5ee1101f-ff09-4a6b-96cc-84eee6fa0d2a"
      },
      "execution_count": 23,
      "outputs": [
        {
          "output_type": "execute_result",
          "data": {
            "text/plain": [
              "array(['Rural', 'Urban', 'Semiurban'], dtype=object)"
            ]
          },
          "metadata": {},
          "execution_count": 23
        }
      ]
    },
    {
      "cell_type": "code",
      "source": [
        "loan.loc[loan['area_de_propiedad'] == 'Rural', 'area_de_propiedad'] = 0\n",
        "loan.loc[loan['area_de_propiedad'] == 'Urban', 'area_de_propiedad'] = 1\n",
        "loan.loc[loan['area_de_propiedad'] == 'Semiurban', 'area_de_propiedad'] = 2"
      ],
      "metadata": {
        "id": "2G-KNJHJm7z5"
      },
      "execution_count": 24,
      "outputs": []
    },
    {
      "cell_type": "code",
      "source": [
        "loan['area_de_propiedad'] = loan['area_de_propiedad'].astype(int, errors = 'raise')"
      ],
      "metadata": {
        "id": "ky2DqaFjm_mO"
      },
      "execution_count": 25,
      "outputs": []
    },
    {
      "cell_type": "markdown",
      "source": [
        "**prestamo_aprobado**\n",
        "* N = 0\n",
        "* Y = 1"
      ],
      "metadata": {
        "id": "rG84gUxFnCVo"
      }
    },
    {
      "cell_type": "code",
      "source": [
        "loan['prestamo_aprobado'].unique()"
      ],
      "metadata": {
        "colab": {
          "base_uri": "https://localhost:8080/"
        },
        "id": "h0c50MOsnFpR",
        "outputId": "83f4eb50-47b8-4aa4-e498-ee4cc1e508a2"
      },
      "execution_count": 26,
      "outputs": [
        {
          "output_type": "execute_result",
          "data": {
            "text/plain": [
              "array(['N', 'Y'], dtype=object)"
            ]
          },
          "metadata": {},
          "execution_count": 26
        }
      ]
    },
    {
      "cell_type": "code",
      "source": [
        "loan.loc[loan['prestamo_aprobado'] == 'N', 'prestamo_aprobado'] = 0\n",
        "loan.loc[loan['prestamo_aprobado'] == 'Y', 'prestamo_aprobado'] = 1"
      ],
      "metadata": {
        "id": "cT2cgMkvnIj8"
      },
      "execution_count": 27,
      "outputs": []
    },
    {
      "cell_type": "code",
      "source": [
        "loan['prestamo_aprobado'] = loan['prestamo_aprobado'].astype(int, errors = 'raise')"
      ],
      "metadata": {
        "id": "mH4eYy3ZnMYn"
      },
      "execution_count": 28,
      "outputs": []
    },
    {
      "cell_type": "markdown",
      "source": [
        "Aquí se pueden evidenciar los cambios realizados."
      ],
      "metadata": {
        "id": "cUbqo7GwnRwK"
      }
    },
    {
      "cell_type": "code",
      "source": [
        "loan.info()"
      ],
      "metadata": {
        "colab": {
          "base_uri": "https://localhost:8080/"
        },
        "id": "RrWkKDJpnVYn",
        "outputId": "38673c5d-0203-4f00-c881-7657eb957e55"
      },
      "execution_count": 29,
      "outputs": [
        {
          "output_type": "stream",
          "name": "stdout",
          "text": [
            "<class 'pandas.core.frame.DataFrame'>\n",
            "Int64Index: 480 entries, 1 to 613\n",
            "Data columns (total 12 columns):\n",
            " #   Column                  Non-Null Count  Dtype  \n",
            "---  ------                  --------------  -----  \n",
            " 0   genero                  480 non-null    int64  \n",
            " 1   casado/soltero          480 non-null    int64  \n",
            " 2   #dependientes           480 non-null    int64  \n",
            " 3   educacion               480 non-null    int64  \n",
            " 4   trabajador_indepen      480 non-null    int64  \n",
            " 5   ingresos                480 non-null    int64  \n",
            " 6   ingresos_cosolicitante  480 non-null    float64\n",
            " 7   monto_prestamo          480 non-null    float64\n",
            " 8   plazo_en_meses          480 non-null    float64\n",
            " 9   historial_crediticio    480 non-null    float64\n",
            " 10  area_de_propiedad       480 non-null    int64  \n",
            " 11  prestamo_aprobado       480 non-null    int64  \n",
            "dtypes: float64(4), int64(8)\n",
            "memory usage: 48.8 KB\n"
          ]
        }
      ]
    },
    {
      "cell_type": "code",
      "source": [
        "loan.head(5)"
      ],
      "metadata": {
        "colab": {
          "base_uri": "https://localhost:8080/",
          "height": 270
        },
        "id": "a5OEFMbdnYsv",
        "outputId": "b7f9fc0e-82b5-43f4-b4c8-7f85607d7134"
      },
      "execution_count": 30,
      "outputs": [
        {
          "output_type": "execute_result",
          "data": {
            "text/plain": [
              "   genero  casado/soltero  #dependientes  educacion  trabajador_indepen  \\\n",
              "1       1               0              1          0                   0   \n",
              "2       1               0              0          0                   1   \n",
              "3       1               0              0          1                   0   \n",
              "4       1               1              0          0                   0   \n",
              "5       1               0              2          0                   1   \n",
              "\n",
              "   ingresos  ingresos_cosolicitante  monto_prestamo  plazo_en_meses  \\\n",
              "1      4583                  1508.0           128.0           360.0   \n",
              "2      3000                     0.0            66.0           360.0   \n",
              "3      2583                  2358.0           120.0           360.0   \n",
              "4      6000                     0.0           141.0           360.0   \n",
              "5      5417                  4196.0           267.0           360.0   \n",
              "\n",
              "   historial_crediticio  area_de_propiedad  prestamo_aprobado  \n",
              "1                   1.0                  0                  0  \n",
              "2                   1.0                  1                  1  \n",
              "3                   1.0                  1                  1  \n",
              "4                   1.0                  1                  1  \n",
              "5                   1.0                  1                  1  "
            ],
            "text/html": [
              "\n",
              "\n",
              "  <div id=\"df-5a912c8e-8448-4705-b6fa-8f180b811ed1\">\n",
              "    <div class=\"colab-df-container\">\n",
              "      <div>\n",
              "<style scoped>\n",
              "    .dataframe tbody tr th:only-of-type {\n",
              "        vertical-align: middle;\n",
              "    }\n",
              "\n",
              "    .dataframe tbody tr th {\n",
              "        vertical-align: top;\n",
              "    }\n",
              "\n",
              "    .dataframe thead th {\n",
              "        text-align: right;\n",
              "    }\n",
              "</style>\n",
              "<table border=\"1\" class=\"dataframe\">\n",
              "  <thead>\n",
              "    <tr style=\"text-align: right;\">\n",
              "      <th></th>\n",
              "      <th>genero</th>\n",
              "      <th>casado/soltero</th>\n",
              "      <th>#dependientes</th>\n",
              "      <th>educacion</th>\n",
              "      <th>trabajador_indepen</th>\n",
              "      <th>ingresos</th>\n",
              "      <th>ingresos_cosolicitante</th>\n",
              "      <th>monto_prestamo</th>\n",
              "      <th>plazo_en_meses</th>\n",
              "      <th>historial_crediticio</th>\n",
              "      <th>area_de_propiedad</th>\n",
              "      <th>prestamo_aprobado</th>\n",
              "    </tr>\n",
              "  </thead>\n",
              "  <tbody>\n",
              "    <tr>\n",
              "      <th>1</th>\n",
              "      <td>1</td>\n",
              "      <td>0</td>\n",
              "      <td>1</td>\n",
              "      <td>0</td>\n",
              "      <td>0</td>\n",
              "      <td>4583</td>\n",
              "      <td>1508.0</td>\n",
              "      <td>128.0</td>\n",
              "      <td>360.0</td>\n",
              "      <td>1.0</td>\n",
              "      <td>0</td>\n",
              "      <td>0</td>\n",
              "    </tr>\n",
              "    <tr>\n",
              "      <th>2</th>\n",
              "      <td>1</td>\n",
              "      <td>0</td>\n",
              "      <td>0</td>\n",
              "      <td>0</td>\n",
              "      <td>1</td>\n",
              "      <td>3000</td>\n",
              "      <td>0.0</td>\n",
              "      <td>66.0</td>\n",
              "      <td>360.0</td>\n",
              "      <td>1.0</td>\n",
              "      <td>1</td>\n",
              "      <td>1</td>\n",
              "    </tr>\n",
              "    <tr>\n",
              "      <th>3</th>\n",
              "      <td>1</td>\n",
              "      <td>0</td>\n",
              "      <td>0</td>\n",
              "      <td>1</td>\n",
              "      <td>0</td>\n",
              "      <td>2583</td>\n",
              "      <td>2358.0</td>\n",
              "      <td>120.0</td>\n",
              "      <td>360.0</td>\n",
              "      <td>1.0</td>\n",
              "      <td>1</td>\n",
              "      <td>1</td>\n",
              "    </tr>\n",
              "    <tr>\n",
              "      <th>4</th>\n",
              "      <td>1</td>\n",
              "      <td>1</td>\n",
              "      <td>0</td>\n",
              "      <td>0</td>\n",
              "      <td>0</td>\n",
              "      <td>6000</td>\n",
              "      <td>0.0</td>\n",
              "      <td>141.0</td>\n",
              "      <td>360.0</td>\n",
              "      <td>1.0</td>\n",
              "      <td>1</td>\n",
              "      <td>1</td>\n",
              "    </tr>\n",
              "    <tr>\n",
              "      <th>5</th>\n",
              "      <td>1</td>\n",
              "      <td>0</td>\n",
              "      <td>2</td>\n",
              "      <td>0</td>\n",
              "      <td>1</td>\n",
              "      <td>5417</td>\n",
              "      <td>4196.0</td>\n",
              "      <td>267.0</td>\n",
              "      <td>360.0</td>\n",
              "      <td>1.0</td>\n",
              "      <td>1</td>\n",
              "      <td>1</td>\n",
              "    </tr>\n",
              "  </tbody>\n",
              "</table>\n",
              "</div>\n",
              "      <button class=\"colab-df-convert\" onclick=\"convertToInteractive('df-5a912c8e-8448-4705-b6fa-8f180b811ed1')\"\n",
              "              title=\"Convert this dataframe to an interactive table.\"\n",
              "              style=\"display:none;\">\n",
              "\n",
              "  <svg xmlns=\"http://www.w3.org/2000/svg\" height=\"24px\"viewBox=\"0 0 24 24\"\n",
              "       width=\"24px\">\n",
              "    <path d=\"M0 0h24v24H0V0z\" fill=\"none\"/>\n",
              "    <path d=\"M18.56 5.44l.94 2.06.94-2.06 2.06-.94-2.06-.94-.94-2.06-.94 2.06-2.06.94zm-11 1L8.5 8.5l.94-2.06 2.06-.94-2.06-.94L8.5 2.5l-.94 2.06-2.06.94zm10 10l.94 2.06.94-2.06 2.06-.94-2.06-.94-.94-2.06-.94 2.06-2.06.94z\"/><path d=\"M17.41 7.96l-1.37-1.37c-.4-.4-.92-.59-1.43-.59-.52 0-1.04.2-1.43.59L10.3 9.45l-7.72 7.72c-.78.78-.78 2.05 0 2.83L4 21.41c.39.39.9.59 1.41.59.51 0 1.02-.2 1.41-.59l7.78-7.78 2.81-2.81c.8-.78.8-2.07 0-2.86zM5.41 20L4 18.59l7.72-7.72 1.47 1.35L5.41 20z\"/>\n",
              "  </svg>\n",
              "      </button>\n",
              "\n",
              "\n",
              "\n",
              "    <div id=\"df-ed1c62f7-7110-4ac6-ad8d-4de2b603e6f3\">\n",
              "      <button class=\"colab-df-quickchart\" onclick=\"quickchart('df-ed1c62f7-7110-4ac6-ad8d-4de2b603e6f3')\"\n",
              "              title=\"Suggest charts.\"\n",
              "              style=\"display:none;\">\n",
              "\n",
              "<svg xmlns=\"http://www.w3.org/2000/svg\" height=\"24px\"viewBox=\"0 0 24 24\"\n",
              "     width=\"24px\">\n",
              "    <g>\n",
              "        <path d=\"M19 3H5c-1.1 0-2 .9-2 2v14c0 1.1.9 2 2 2h14c1.1 0 2-.9 2-2V5c0-1.1-.9-2-2-2zM9 17H7v-7h2v7zm4 0h-2V7h2v10zm4 0h-2v-4h2v4z\"/>\n",
              "    </g>\n",
              "</svg>\n",
              "      </button>\n",
              "    </div>\n",
              "\n",
              "<style>\n",
              "  .colab-df-quickchart {\n",
              "    background-color: #E8F0FE;\n",
              "    border: none;\n",
              "    border-radius: 50%;\n",
              "    cursor: pointer;\n",
              "    display: none;\n",
              "    fill: #1967D2;\n",
              "    height: 32px;\n",
              "    padding: 0 0 0 0;\n",
              "    width: 32px;\n",
              "  }\n",
              "\n",
              "  .colab-df-quickchart:hover {\n",
              "    background-color: #E2EBFA;\n",
              "    box-shadow: 0px 1px 2px rgba(60, 64, 67, 0.3), 0px 1px 3px 1px rgba(60, 64, 67, 0.15);\n",
              "    fill: #174EA6;\n",
              "  }\n",
              "\n",
              "  [theme=dark] .colab-df-quickchart {\n",
              "    background-color: #3B4455;\n",
              "    fill: #D2E3FC;\n",
              "  }\n",
              "\n",
              "  [theme=dark] .colab-df-quickchart:hover {\n",
              "    background-color: #434B5C;\n",
              "    box-shadow: 0px 1px 3px 1px rgba(0, 0, 0, 0.15);\n",
              "    filter: drop-shadow(0px 1px 2px rgba(0, 0, 0, 0.3));\n",
              "    fill: #FFFFFF;\n",
              "  }\n",
              "</style>\n",
              "\n",
              "    <script>\n",
              "      async function quickchart(key) {\n",
              "        const containerElement = document.querySelector('#' + key);\n",
              "        const charts = await google.colab.kernel.invokeFunction(\n",
              "            'suggestCharts', [key], {});\n",
              "      }\n",
              "    </script>\n",
              "\n",
              "      <script>\n",
              "\n",
              "function displayQuickchartButton(domScope) {\n",
              "  let quickchartButtonEl =\n",
              "    domScope.querySelector('#df-ed1c62f7-7110-4ac6-ad8d-4de2b603e6f3 button.colab-df-quickchart');\n",
              "  quickchartButtonEl.style.display =\n",
              "    google.colab.kernel.accessAllowed ? 'block' : 'none';\n",
              "}\n",
              "\n",
              "        displayQuickchartButton(document);\n",
              "      </script>\n",
              "      <style>\n",
              "    .colab-df-container {\n",
              "      display:flex;\n",
              "      flex-wrap:wrap;\n",
              "      gap: 12px;\n",
              "    }\n",
              "\n",
              "    .colab-df-convert {\n",
              "      background-color: #E8F0FE;\n",
              "      border: none;\n",
              "      border-radius: 50%;\n",
              "      cursor: pointer;\n",
              "      display: none;\n",
              "      fill: #1967D2;\n",
              "      height: 32px;\n",
              "      padding: 0 0 0 0;\n",
              "      width: 32px;\n",
              "    }\n",
              "\n",
              "    .colab-df-convert:hover {\n",
              "      background-color: #E2EBFA;\n",
              "      box-shadow: 0px 1px 2px rgba(60, 64, 67, 0.3), 0px 1px 3px 1px rgba(60, 64, 67, 0.15);\n",
              "      fill: #174EA6;\n",
              "    }\n",
              "\n",
              "    [theme=dark] .colab-df-convert {\n",
              "      background-color: #3B4455;\n",
              "      fill: #D2E3FC;\n",
              "    }\n",
              "\n",
              "    [theme=dark] .colab-df-convert:hover {\n",
              "      background-color: #434B5C;\n",
              "      box-shadow: 0px 1px 3px 1px rgba(0, 0, 0, 0.15);\n",
              "      filter: drop-shadow(0px 1px 2px rgba(0, 0, 0, 0.3));\n",
              "      fill: #FFFFFF;\n",
              "    }\n",
              "  </style>\n",
              "\n",
              "      <script>\n",
              "        const buttonEl =\n",
              "          document.querySelector('#df-5a912c8e-8448-4705-b6fa-8f180b811ed1 button.colab-df-convert');\n",
              "        buttonEl.style.display =\n",
              "          google.colab.kernel.accessAllowed ? 'block' : 'none';\n",
              "\n",
              "        async function convertToInteractive(key) {\n",
              "          const element = document.querySelector('#df-5a912c8e-8448-4705-b6fa-8f180b811ed1');\n",
              "          const dataTable =\n",
              "            await google.colab.kernel.invokeFunction('convertToInteractive',\n",
              "                                                     [key], {});\n",
              "          if (!dataTable) return;\n",
              "\n",
              "          const docLinkHtml = 'Like what you see? Visit the ' +\n",
              "            '<a target=\"_blank\" href=https://colab.research.google.com/notebooks/data_table.ipynb>data table notebook</a>'\n",
              "            + ' to learn more about interactive tables.';\n",
              "          element.innerHTML = '';\n",
              "          dataTable['output_type'] = 'display_data';\n",
              "          await google.colab.output.renderOutput(dataTable, element);\n",
              "          const docLink = document.createElement('div');\n",
              "          docLink.innerHTML = docLinkHtml;\n",
              "          element.appendChild(docLink);\n",
              "        }\n",
              "      </script>\n",
              "    </div>\n",
              "  </div>\n"
            ]
          },
          "metadata": {},
          "execution_count": 30
        }
      ]
    },
    {
      "cell_type": "markdown",
      "source": [
        "# **Aplicación del Algoritmo  de K-medias**"
      ],
      "metadata": {
        "id": "oyBl_2PFnfLs"
      }
    },
    {
      "cell_type": "markdown",
      "source": [
        "Agrupacion de Kmedias"
      ],
      "metadata": {
        "id": "1ZJGBDs3nnwX"
      }
    },
    {
      "cell_type": "markdown",
      "source": [
        "Se importan las librerias necesarias"
      ],
      "metadata": {
        "id": "7gmG4LMwnnjn"
      }
    },
    {
      "cell_type": "code",
      "source": [
        "import numpy as np\n",
        "from sklearn import datasets\n",
        "from sklearn.cluster import KMeans\n",
        "import matplotlib.pyplot as plt\n",
        "from mpl_toolkits.mplot3d import Axes3D"
      ],
      "metadata": {
        "id": "Kfya_T0SnhjG"
      },
      "execution_count": 31,
      "outputs": []
    },
    {
      "cell_type": "markdown",
      "source": [
        "Se escoge 2 cluster porque los grupos serán si el prestamo se aprobó o no y la iteración tiene máximo 200 porque el dataset no es de gran tamaño."
      ],
      "metadata": {
        "id": "w-dEK25mn56o"
      }
    },
    {
      "cell_type": "code",
      "source": [
        "from sklearn.cluster import KMeans\n",
        "Kmeans=KMeans(n_clusters=2, max_iter=200)"
      ],
      "metadata": {
        "id": "9BxGOUGKn9gp"
      },
      "execution_count": 32,
      "outputs": []
    },
    {
      "cell_type": "markdown",
      "source": [
        "Puede demorarse por las iteraciones que hace"
      ],
      "metadata": {
        "id": "_b1TFPRNoBvq"
      }
    },
    {
      "cell_type": "code",
      "source": [
        "inercias=[]#muestra cuantos clouster son los mas obtimos para el porcentaje de precicion\n",
        "for i in range(1, len(loan+1)):#pedir ayuda para subirlo a git\n",
        "  kmeans=KMeans(n_clusters=i, max_iter=200)\n",
        "  kmeans.fit(loan)\n",
        "  inercias.append(kmeans.inertia_)"
      ],
      "metadata": {
        "id": "BZ-eTR-PcxGQ"
      },
      "execution_count": null,
      "outputs": []
    },
    {
      "cell_type": "markdown",
      "source": [
        "Ahora se realiza la grafica de las inercias para identificar los grupos que fueron afectados por la inercia."
      ],
      "metadata": {
        "id": "MH3mZcySoL7Y"
      }
    },
    {
      "cell_type": "code",
      "source": [
        "plt.plot(range(1, len(loan+1)), inercias)\n",
        "plt.grid()"
      ],
      "metadata": {
        "colab": {
          "base_uri": "https://localhost:8080/",
          "height": 445
        },
        "id": "yQefYypdoNur",
        "outputId": "4a15a71f-3dc3-47b5-b8e9-bc5f5b62ddb9"
      },
      "execution_count": 34,
      "outputs": [
        {
          "output_type": "display_data",
          "data": {
            "text/plain": [
              "<Figure size 640x480 with 1 Axes>"
            ],
            "image/png": "[encoded data removed]"
          },
          "metadata": {}
        }
      ]
    },
    {
      "cell_type": "markdown",
      "source": [
        "Se amplia la grafia en los datos relevantes\n"
      ],
      "metadata": {
        "id": "3RXkXwb7oTSw"
      }
    },
    {
      "cell_type": "code",
      "source": [
        "plt.plot(range(1,26), inercias[:25])\n",
        "plt.grid()"
      ],
      "metadata": {
        "colab": {
          "base_uri": "https://localhost:8080/",
          "height": 445
        },
        "id": "sxCvYxsqoQOd",
        "outputId": "c3909fd6-6cb8-46de-d738-e0c1730e0309"
      },
      "execution_count": 43,
      "outputs": [
        {
          "output_type": "display_data",
          "data": {
            "text/plain": [
              "<Figure size 640x480 with 1 Axes>"
            ],
            "image/png": "[encoded data removed]"
          },
          "metadata": {}
        }
      ]
    },
    {
      "cell_type": "markdown",
      "source": [
        "Ahora, es necesario saber cúales y cómo se están tomando los datos. Para así organizarlos y graficarlos"
      ],
      "metadata": {
        "id": "LwKgM5E8jX8F"
      }
    },
    {
      "cell_type": "code",
      "source": [
        "kmeans=KMeans(n_clusters=2, max_iter=200)#muestra como esta tomando las variables\n",
        "objetivo=kmeans.fit_predict(loan)\n",
        "print(objetivo)\n",
        "print(loan)"
      ],
      "metadata": {
        "colab": {
          "base_uri": "https://localhost:8080/"
        },
        "id": "r-GrQ4aaoW-Q",
        "outputId": "bc62e3ed-220a-49c4-a38a-0a00200dad9f"
      },
      "execution_count": 56,
      "outputs": [
        {
          "output_type": "stream",
          "name": "stdout",
          "text": [
            "[0 0 0 0 0 0 0 0 0 0 0 0 0 0 0 0 0 0 0 0 0 0 0 0 0 0 0 0 0 0 0 0 0 0 0 0 0\n",
            " 0 0 0 0 0 0 0 0 0 0 0 0 0 0 0 0 0 0 0 0 0 0 0 0 0 0 0 0 0 0 0 0 0 0 0 0 0\n",
            " 0 0 0 0 0 0 0 0 0 0 0 0 0 0 0 0 0 0 0 0 0 0 0 0 0 0 0 0 0 0 0 0 0 0 0 0 0\n",
            " 0 0 0 0 0 0 0 0 0 1 0 0 0 0 0 0 0 0 0 0 0 0 0 0 0 0 0 0 0 0 0 1 0 1 0 0 0\n",
            " 0 0 0 0 0 0 0 0 0 0 0 0 0 0 0 0 0 0 0 0 0 0 0 0 0 0 0 0 0 0 0 0 0 0 0 0 0\n",
            " 0 0 0 0 0 0 0 0 0 0 0 0 0 0 0 0 0 0 0 0 0 0 0 0 0 0 0 0 0 0 0 0 0 0 0 0 0\n",
            " 0 0 0 0 0 0 0 0 0 0 0 0 0 0 0 0 0 0 0 0 0 0 0 0 0 0 0 0 0 0 0 0 0 0 0 0 0\n",
            " 0 0 0 0 0 0 0 0 0 0 0 0 0 0 0 0 0 0 0 0 0 0 0 0 0 0 0 0 0 0 0 0 0 0 0 0 0\n",
            " 0 0 0 0 0 0 0 0 0 0 0 0 0 0 0 0 0 0 0 0 0 0 0 1 0 0 0 0 0 0 0 0 0 0 0 0 0\n",
            " 0 0 0 0 0 0 0 0 0 0 0 0 0 0 1 0 0 0 0 0 0 0 0 0 0 0 0 0 0 0 0 0 0 0 0 0 0\n",
            " 0 0 0 0 0 0 0 0 0 0 0 0 0 0 0 0 0 0 0 0 0 0 0 0 0 0 0 0 0 0 0 0 0 0 0 0 0\n",
            " 0 0 0 0 0 0 0 0 0 0 0 0 0 0 0 0 0 0 0 0 0 0 0 0 0 0 0 0 0 0 0 0 0 0 0 0 0\n",
            " 0 0 0 0 0 0 0 0 0 0 0 0 0 0 0 0 0 0 0 0 0 0 0 0 0 0 0 0 0 0 0 0 0 0 0 0]\n",
            "     genero  casado/soltero  #dependientes  educacion  trabajador_indepen  \\\n",
            "1         1               0              1          0                   0   \n",
            "2         1               0              0          0                   1   \n",
            "3         1               0              0          1                   0   \n",
            "4         1               1              0          0                   0   \n",
            "5         1               0              2          0                   1   \n",
            "..      ...             ...            ...        ...                 ...   \n",
            "609       0               1              0          0                   0   \n",
            "610       1               0              3          0                   0   \n",
            "611       1               0              1          0                   0   \n",
            "612       1               0              2          0                   0   \n",
            "613       0               1              0          0                   1   \n",
            "\n",
            "     ingresos  ingresos_cosolicitante  monto_prestamo  plazo_en_meses  \\\n",
            "1        4583                  1508.0           128.0           360.0   \n",
            "2        3000                     0.0            66.0           360.0   \n",
            "3        2583                  2358.0           120.0           360.0   \n",
            "4        6000                     0.0           141.0           360.0   \n",
            "5        5417                  4196.0           267.0           360.0   \n",
            "..        ...                     ...             ...             ...   \n",
            "609      2900                     0.0            71.0           360.0   \n",
            "610      4106                     0.0            40.0           180.0   \n",
            "611      8072                   240.0           253.0           360.0   \n",
            "612      7583                     0.0           187.0           360.0   \n",
            "613      4583                     0.0           133.0           360.0   \n",
            "\n",
            "     historial_crediticio  area_de_propiedad  prestamo_aprobado  \n",
            "1                     1.0                  0                  0  \n",
            "2                     1.0                  1                  1  \n",
            "3                     1.0                  1                  1  \n",
            "4                     1.0                  1                  1  \n",
            "5                     1.0                  1                  1  \n",
            "..                    ...                ...                ...  \n",
            "609                   1.0                  0                  1  \n",
            "610                   1.0                  0                  1  \n",
            "611                   1.0                  1                  1  \n",
            "612                   1.0                  1                  1  \n",
            "613                   0.0                  2                  0  \n",
            "\n",
            "[480 rows x 12 columns]\n"
          ]
        },
        {
          "output_type": "stream",
          "name": "stderr",
          "text": [
            "/usr/local/lib/python3.10/dist-packages/sklearn/cluster/_kmeans.py:870: FutureWarning: The default value of `n_init` will change from 10 to 'auto' in 1.4. Set the value of `n_init` explicitly to suppress the warning\n",
            "  warnings.warn(\n"
          ]
        }
      ]
    },
    {
      "cell_type": "markdown",
      "source": [
        "Se imprime el Kmeans de la predicción. Sin embargo, aún no muestra los datos de forma organizada."
      ],
      "metadata": {
        "id": "1-5aTJDAkcV4"
      }
    },
    {
      "cell_type": "code",
      "source": [
        "objetivos=Kmeans.fit_predict(loan)\n",
        "print(objetivos)"
      ],
      "metadata": {
        "colab": {
          "base_uri": "https://localhost:8080/"
        },
        "id": "LsDcP3KDocVl",
        "outputId": "6370a2ad-4abd-4509-ce5e-a14feb232167"
      },
      "execution_count": 53,
      "outputs": [
        {
          "output_type": "stream",
          "name": "stdout",
          "text": [
            "[0 0 0 0 0 0 0 0 0 0 0 0 0 0 0 0 0 0 0 0 0 0 0 0 0 0 0 0 0 0 0 0 0 0 0 0 0\n",
            " 0 0 0 0 0 0 0 0 0 0 0 0 0 0 0 0 0 0 0 0 0 0 0 0 0 0 0 0 0 0 0 0 0 0 0 0 0\n",
            " 0 0 0 0 0 0 0 0 0 0 0 0 0 0 0 0 0 0 0 0 0 0 0 0 0 0 0 0 0 0 0 0 0 0 0 0 0\n",
            " 0 0 0 0 0 0 0 0 0 1 0 0 0 0 0 0 0 0 0 0 0 0 0 0 0 0 0 0 0 0 0 1 0 1 0 0 0\n",
            " 0 0 0 0 0 0 0 0 0 0 0 0 0 0 0 0 0 0 0 0 0 0 0 0 0 0 0 0 0 0 0 0 0 0 0 0 0\n",
            " 0 0 0 0 0 0 0 0 0 0 0 0 0 0 0 0 0 0 0 0 0 0 0 0 0 0 0 0 0 0 0 0 0 0 0 0 0\n",
            " 0 0 0 0 0 0 0 0 0 0 0 0 0 0 0 0 0 0 0 0 0 0 0 0 0 0 0 0 0 0 0 0 0 0 0 0 0\n",
            " 0 0 0 0 0 0 0 0 0 0 0 0 0 0 0 0 0 0 0 0 0 0 0 0 0 0 0 0 0 0 0 0 0 0 0 0 0\n",
            " 0 0 0 0 0 0 0 0 0 0 0 0 0 0 0 0 0 0 0 0 0 0 0 1 0 0 0 0 0 0 0 0 0 0 0 0 0\n",
            " 0 0 0 0 0 0 0 0 0 0 0 0 0 0 1 0 0 0 0 0 0 0 0 0 0 0 0 0 0 0 0 0 0 0 0 0 0\n",
            " 0 0 0 0 0 0 0 0 0 0 0 0 0 0 0 0 0 0 0 0 0 0 0 0 0 0 0 0 0 0 0 0 0 0 0 0 0\n",
            " 0 0 0 0 0 0 0 0 0 0 0 0 0 0 0 0 0 0 0 0 0 0 0 0 0 0 0 0 0 0 0 0 0 0 0 0 0\n",
            " 0 0 0 0 0 0 0 0 0 0 0 0 0 0 0 0 0 0 0 0 0 0 0 0 0 0 0 0 0 0 0 0 0 0 0 0]\n"
          ]
        },
        {
          "output_type": "stream",
          "name": "stderr",
          "text": [
            "/usr/local/lib/python3.10/dist-packages/sklearn/cluster/_kmeans.py:870: FutureWarning: The default value of `n_init` will change from 10 to 'auto' in 1.4. Set the value of `n_init` explicitly to suppress the warning\n",
            "  warnings.warn(\n"
          ]
        }
      ]
    },
    {
      "cell_type": "code",
      "source": [
        "print(type(objetivos))\n",
        "print(len(objetivos))\n",
        "a=objetivos\n",
        "print(type(a))\n",
        "print(len(a))"
      ],
      "metadata": {
        "colab": {
          "base_uri": "https://localhost:8080/"
        },
        "id": "mP_ICGEKohUP",
        "outputId": "38871881-8099-4fbb-f88d-0eb123264c2f"
      },
      "execution_count": 57,
      "outputs": [
        {
          "output_type": "stream",
          "name": "stdout",
          "text": [
            "<class 'numpy.ndarray'>\n",
            "480\n",
            "<class 'numpy.ndarray'>\n",
            "480\n"
          ]
        }
      ]
    },
    {
      "cell_type": "code",
      "source": [
        "plt.plot(objetivos)#Y indica si se aprobo o no\n",
        "plt.xlabel('Muestras')\n",
        "plt.ylabel('Aprobación')\n",
        "plt.show()# indica q la taza de rechazo es mas alta"
      ],
      "metadata": {
        "colab": {
          "base_uri": "https://localhost:8080/",
          "height": 449
        },
        "id": "YACHleZ0oe8v",
        "outputId": "ce134116-361d-4aa5-b7a0-6d848e405f9e"
      },
      "execution_count": 59,
      "outputs": [
        {
          "output_type": "display_data",
          "data": {
            "text/plain": [
              "<Figure size 640x480 with 1 Axes>"
            ],
            "image/png": "[encoded data removed]"
          },
          "metadata": {}
        }
      ]
    },
    {
      "cell_type": "markdown",
      "source": [
        "Datos organizados"
      ],
      "metadata": {
        "id": "KIlwzOzjlKuw"
      }
    },
    {
      "cell_type": "code",
      "source": [
        "b=np.sort(a) #Concordancia de datos se aprobaron pocos prestamos/se realizó un buen  agrupamiento porque separó acertadamente loos datos\n",
        "print(b)"
      ],
      "metadata": {
        "colab": {
          "base_uri": "https://localhost:8080/"
        },
        "id": "-9qoc6fHokKu",
        "outputId": "d653d574-3df7-4d54-bc10-f13d6431f426"
      },
      "execution_count": 62,
      "outputs": [
        {
          "output_type": "stream",
          "name": "stdout",
          "text": [
            "[0 0 0 0 0 0 0 0 0 0 0 0 0 0 0 0 0 0 0 0 0 0 0 0 0 0 0 0 0 0 0 0 0 0 0 0 0\n",
            " 0 0 0 0 0 0 0 0 0 0 0 0 0 0 0 0 0 0 0 0 0 0 0 0 0 0 0 0 0 0 0 0 0 0 0 0 0\n",
            " 0 0 0 0 0 0 0 0 0 0 0 0 0 0 0 0 0 0 0 0 0 0 0 0 0 0 0 0 0 0 0 0 0 0 0 0 0\n",
            " 0 0 0 0 0 0 0 0 0 0 0 0 0 0 0 0 0 0 0 0 0 0 0 0 0 0 0 0 0 0 0 0 0 0 0 0 0\n",
            " 0 0 0 0 0 0 0 0 0 0 0 0 0 0 0 0 0 0 0 0 0 0 0 0 0 0 0 0 0 0 0 0 0 0 0 0 0\n",
            " 0 0 0 0 0 0 0 0 0 0 0 0 0 0 0 0 0 0 0 0 0 0 0 0 0 0 0 0 0 0 0 0 0 0 0 0 0\n",
            " 0 0 0 0 0 0 0 0 0 0 0 0 0 0 0 0 0 0 0 0 0 0 0 0 0 0 0 0 0 0 0 0 0 0 0 0 0\n",
            " 0 0 0 0 0 0 0 0 0 0 0 0 0 0 0 0 0 0 0 0 0 0 0 0 0 0 0 0 0 0 0 0 0 0 0 0 0\n",
            " 0 0 0 0 0 0 0 0 0 0 0 0 0 0 0 0 0 0 0 0 0 0 0 0 0 0 0 0 0 0 0 0 0 0 0 0 0\n",
            " 0 0 0 0 0 0 0 0 0 0 0 0 0 0 0 0 0 0 0 0 0 0 0 0 0 0 0 0 0 0 0 0 0 0 0 0 0\n",
            " 0 0 0 0 0 0 0 0 0 0 0 0 0 0 0 0 0 0 0 0 0 0 0 0 0 0 0 0 0 0 0 0 0 0 0 0 0\n",
            " 0 0 0 0 0 0 0 0 0 0 0 0 0 0 0 0 0 0 0 0 0 0 0 0 0 0 0 0 0 0 0 0 0 0 0 0 0\n",
            " 0 0 0 0 0 0 0 0 0 0 0 0 0 0 0 0 0 0 0 0 0 0 0 0 0 0 0 0 0 0 0 1 1 1 1 1]\n"
          ]
        }
      ]
    },
    {
      "cell_type": "code",
      "source": [
        "plt.stem(b)\n",
        "plt.grid()\n",
        "plt.title('Kmedias grafica 1')\n",
        "plt.xlabel('Muestras')\n",
        "plt.ylabel('Cluster')\n",
        "plt.show()"
      ],
      "metadata": {
        "colab": {
          "base_uri": "https://localhost:8080/",
          "height": 472
        },
        "id": "A-wEOh1ztp0R",
        "outputId": "f207b9fa-b959-4a7f-e799-f7e5f59ce52d"
      },
      "execution_count": 66,
      "outputs": [
        {
          "output_type": "display_data",
          "data": {
            "text/plain": [
              "<Figure size 640x480 with 1 Axes>"
            ],
            "image/png": "[encoded data removed]"
          },
          "metadata": {}
        }
      ]
    },
    {
      "cell_type": "code",
      "source": [
        "rango=range(0,len(b))\n",
        "plt.scatter(rango,b,c=Kmeans.labels_)\n",
        "plt.title('Kmedias grafica 2')\n",
        "plt.xlabel('Rango')\n",
        "plt.ylabel('Cluster')\n",
        "plt.grid()\n",
        "plt.show()"
      ],
      "metadata": {
        "id": "UGSo4LoKvJoS",
        "outputId": "2c0fa6b7-dc8b-4c74-8a2e-69f9d5e64eb4",
        "colab": {
          "base_uri": "https://localhost:8080/",
          "height": 472
        }
      },
      "execution_count": 67,
      "outputs": [
        {
          "output_type": "display_data",
          "data": {
            "text/plain": [
              "<Figure size 640x480 with 1 Axes>"
            ],
            "image/png": "[encoded data removed]"
          },
          "metadata": {}
        }
      ]
    },
    {
      "cell_type": "markdown",
      "source": [
        "# CONCLUSIÓN"
      ],
      "metadata": {
        "id": "78rfcrIxl4Q_"
      }
    },
    {
      "cell_type": "markdown",
      "source": [
        "La agrupación de kmedias fué exitosa, toda la información coincide y los grupos se realizaron correctamente.\n",
        "Teniendo en cuenta la información, las graficas y que la aprobación del prestamo equivale a 1 y el rechazo del mismo es 0. Se evidencia de la taza de aprobación es muy baja. Aproximadamente solo el 1% de los prestamos llegan a ser aprobados."
      ],
      "metadata": {
        "id": "fweqv4Mdl1vh"
      }
    }
  ]
}